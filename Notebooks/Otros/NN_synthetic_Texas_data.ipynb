{
 "cells": [
  {
   "cell_type": "code",
   "execution_count": 1,
   "id": "647355f7-312f-41df-9eb5-71d961d94758",
   "metadata": {
    "tags": []
   },
   "outputs": [],
   "source": [
    "import pandas as pd\n",
    "import numpy as np\n",
    "from scipy.interpolate import griddata\n",
    "from geopy.geocoders import Nominatim\n",
    "from geopy.exc import GeocoderTimedOut"
   ]
  },
  {
   "cell_type": "code",
   "execution_count": 2,
   "id": "833e6721-34d0-4df8-91c1-e277545bc78b",
   "metadata": {
    "tags": []
   },
   "outputs": [],
   "source": [
    "# Set random seed for reproducibility\n",
    "np.random.seed(42)# Define the boundaries of Texas\n",
    "lat_min, lat_max = 25.8371, 36.5007\n",
    "lon_min, lon_max = -106.6456, -93.5083# Generate a grid of points across Texas\n",
    "n_points = 1000\n",
    "\n",
    "\n",
    "latitudes = np.random.uniform(lat_min, lat_max, n_points)\n",
    "longitudes = np.random.uniform(lon_min, lon_max, n_points)# Create a dataframe\n",
    "df = pd.DataFrame({\n",
    "    'latitude': latitudes,\n",
    "    'longitude': longitudes\n",
    "})"
   ]
  },
  {
   "cell_type": "code",
   "execution_count": 3,
   "id": "7f5281b0-c4d2-4650-bb53-5c8b0dbe7ff7",
   "metadata": {
    "tags": []
   },
   "outputs": [],
   "source": [
    "# Function to get elevation data (this would ideally use a DEM dataset)\n",
    "def get_elevation(lat, lon):\n",
    "    # This is a simplified model. In reality, you'd use a Digital Elevation Model.\n",
    "    return np.random.uniform(0, 1000)  # Texas elevations generally range from 0 to about 2,667 meters\n",
    "df['elevation'] = df.apply(lambda row: get_elevation(row['latitude'], row['longitude']), axis=1)\n",
    "\n",
    "# Magnetic field strength (nT)\n",
    "# Data based on NOAA's magnetic field calculator\n",
    "mag_field_min, mag_field_max = 47000, 52000\n",
    "df['magnetic_field'] = np.random.uniform(mag_field_min, mag_field_max, n_points)# Gravity anomalies (mGal)\n",
    "\n",
    "# Data based on the World Gravity Map\n",
    "gravity_min, gravity_max = -40, 40\n",
    "df['gravity_anomaly'] = np.random.uniform(gravity_min, gravity_max, n_points)# Atmospheric pressure (hPa)\n",
    "\n",
    "# Pressure varies with elevation\n",
    "def calculate_pressure(elevation):\n",
    "    p0 = 1013.25  # sea level standard atmosphere in hPa\n",
    "    return p0 * (1 - 0.0065 * elevation / 288.15) ** 5.255\n",
    "df['pressure'] = df['elevation'].apply(calculate_pressure)"
   ]
  },
  {
   "cell_type": "code",
   "execution_count": 4,
   "id": "098b59a8-38b5-402c-81a4-321d0bd424ba",
   "metadata": {
    "tags": []
   },
   "outputs": [
    {
     "data": {
      "text/html": [
       "<div>\n",
       "<style scoped>\n",
       "    .dataframe tbody tr th:only-of-type {\n",
       "        vertical-align: middle;\n",
       "    }\n",
       "\n",
       "    .dataframe tbody tr th {\n",
       "        vertical-align: top;\n",
       "    }\n",
       "\n",
       "    .dataframe thead th {\n",
       "        text-align: right;\n",
       "    }\n",
       "</style>\n",
       "<table border=\"1\" class=\"dataframe\">\n",
       "  <thead>\n",
       "    <tr style=\"text-align: right;\">\n",
       "      <th></th>\n",
       "      <th>latitude</th>\n",
       "      <th>longitude</th>\n",
       "      <th>elevation</th>\n",
       "      <th>magnetic_field</th>\n",
       "      <th>gravity_anomaly</th>\n",
       "      <th>pressure</th>\n",
       "    </tr>\n",
       "  </thead>\n",
       "  <tbody>\n",
       "    <tr>\n",
       "      <th>0</th>\n",
       "      <td>29.831046</td>\n",
       "      <td>-104.213453</td>\n",
       "      <td>261.705684</td>\n",
       "      <td>50363.514971</td>\n",
       "      <td>5.759670</td>\n",
       "      <td>982.208453</td>\n",
       "    </tr>\n",
       "    <tr>\n",
       "      <th>1</th>\n",
       "      <td>35.975137</td>\n",
       "      <td>-99.526485</td>\n",
       "      <td>246.978799</td>\n",
       "      <td>50983.406986</td>\n",
       "      <td>24.434586</td>\n",
       "      <td>983.934538</td>\n",
       "    </tr>\n",
       "    <tr>\n",
       "      <th>2</th>\n",
       "      <td>33.642791</td>\n",
       "      <td>-95.177449</td>\n",
       "      <td>906.254581</td>\n",
       "      <td>48252.339494</td>\n",
       "      <td>20.812874</td>\n",
       "      <td>909.028954</td>\n",
       "    </tr>\n",
       "    <tr>\n",
       "      <th>3</th>\n",
       "      <td>32.220955</td>\n",
       "      <td>-97.026142</td>\n",
       "      <td>249.546200</td>\n",
       "      <td>50124.370498</td>\n",
       "      <td>-27.688008</td>\n",
       "      <td>983.633446</td>\n",
       "    </tr>\n",
       "    <tr>\n",
       "      <th>4</th>\n",
       "      <td>27.500820</td>\n",
       "      <td>-96.049564</td>\n",
       "      <td>271.949726</td>\n",
       "      <td>49858.729916</td>\n",
       "      <td>-28.060042</td>\n",
       "      <td>981.009232</td>\n",
       "    </tr>\n",
       "  </tbody>\n",
       "</table>\n",
       "</div>"
      ],
      "text/plain": [
       "    latitude   longitude   elevation  magnetic_field  gravity_anomaly  \\\n",
       "0  29.831046 -104.213453  261.705684    50363.514971         5.759670   \n",
       "1  35.975137  -99.526485  246.978799    50983.406986        24.434586   \n",
       "2  33.642791  -95.177449  906.254581    48252.339494        20.812874   \n",
       "3  32.220955  -97.026142  249.546200    50124.370498       -27.688008   \n",
       "4  27.500820  -96.049564  271.949726    49858.729916       -28.060042   \n",
       "\n",
       "     pressure  \n",
       "0  982.208453  \n",
       "1  983.934538  \n",
       "2  909.028954  \n",
       "3  983.633446  \n",
       "4  981.009232  "
      ]
     },
     "execution_count": 4,
     "metadata": {},
     "output_type": "execute_result"
    }
   ],
   "source": [
    "df.head()"
   ]
  },
  {
   "cell_type": "code",
   "execution_count": 5,
   "id": "df361cec-6d11-44d5-9155-8a98349b73e0",
   "metadata": {
    "tags": []
   },
   "outputs": [],
   "source": [
    "# Add some spatial correlation\n",
    "def add_spatial_correlation(series, strength=0.5):\n",
    "    grid_x, grid_y = np.mgrid[lat_min:lat_max:100j, lon_min:lon_max:100j]\n",
    "    points = df[['latitude', 'longitude']].values\n",
    "    values = series.values\n",
    "    grid_z = griddata(points, values, (grid_x, grid_y), method='cubic')\n",
    "    interpolated = griddata((grid_x.ravel(), grid_y.ravel()), grid_z.ravel(), points, method='nearest')\n",
    "    return series * (1 - strength) + interpolated * strength\n",
    "\n",
    "df['magnetic_field'] = add_spatial_correlation(df['magnetic_field'])\n",
    "df['gravity_anomaly'] = add_spatial_correlation(df['gravity_anomaly'])# Attempt to get real place names (this may take some time and might hit API limits)"
   ]
  },
  {
   "cell_type": "code",
   "execution_count": 6,
   "id": "0874b419-61a9-4595-a011-54a134067882",
   "metadata": {
    "tags": []
   },
   "outputs": [
    {
     "data": {
      "text/html": [
       "<div>\n",
       "<style scoped>\n",
       "    .dataframe tbody tr th:only-of-type {\n",
       "        vertical-align: middle;\n",
       "    }\n",
       "\n",
       "    .dataframe tbody tr th {\n",
       "        vertical-align: top;\n",
       "    }\n",
       "\n",
       "    .dataframe thead th {\n",
       "        text-align: right;\n",
       "    }\n",
       "</style>\n",
       "<table border=\"1\" class=\"dataframe\">\n",
       "  <thead>\n",
       "    <tr style=\"text-align: right;\">\n",
       "      <th></th>\n",
       "      <th>latitude</th>\n",
       "      <th>longitude</th>\n",
       "      <th>elevation</th>\n",
       "      <th>magnetic_field</th>\n",
       "      <th>gravity_anomaly</th>\n",
       "      <th>pressure</th>\n",
       "    </tr>\n",
       "  </thead>\n",
       "  <tbody>\n",
       "    <tr>\n",
       "      <th>0</th>\n",
       "      <td>29.831046</td>\n",
       "      <td>-104.213453</td>\n",
       "      <td>261.705684</td>\n",
       "      <td>50578.130565</td>\n",
       "      <td>7.044395</td>\n",
       "      <td>982.208453</td>\n",
       "    </tr>\n",
       "    <tr>\n",
       "      <th>1</th>\n",
       "      <td>35.975137</td>\n",
       "      <td>-99.526485</td>\n",
       "      <td>246.978799</td>\n",
       "      <td>50938.755317</td>\n",
       "      <td>25.550456</td>\n",
       "      <td>983.934538</td>\n",
       "    </tr>\n",
       "    <tr>\n",
       "      <th>2</th>\n",
       "      <td>33.642791</td>\n",
       "      <td>-95.177449</td>\n",
       "      <td>906.254581</td>\n",
       "      <td>48525.848269</td>\n",
       "      <td>18.973367</td>\n",
       "      <td>909.028954</td>\n",
       "    </tr>\n",
       "    <tr>\n",
       "      <th>3</th>\n",
       "      <td>32.220955</td>\n",
       "      <td>-97.026142</td>\n",
       "      <td>249.546200</td>\n",
       "      <td>49937.069959</td>\n",
       "      <td>-28.628942</td>\n",
       "      <td>983.633446</td>\n",
       "    </tr>\n",
       "    <tr>\n",
       "      <th>4</th>\n",
       "      <td>27.500820</td>\n",
       "      <td>-96.049564</td>\n",
       "      <td>271.949726</td>\n",
       "      <td>50021.341612</td>\n",
       "      <td>-30.246191</td>\n",
       "      <td>981.009232</td>\n",
       "    </tr>\n",
       "  </tbody>\n",
       "</table>\n",
       "</div>"
      ],
      "text/plain": [
       "    latitude   longitude   elevation  magnetic_field  gravity_anomaly  \\\n",
       "0  29.831046 -104.213453  261.705684    50578.130565         7.044395   \n",
       "1  35.975137  -99.526485  246.978799    50938.755317        25.550456   \n",
       "2  33.642791  -95.177449  906.254581    48525.848269        18.973367   \n",
       "3  32.220955  -97.026142  249.546200    49937.069959       -28.628942   \n",
       "4  27.500820  -96.049564  271.949726    50021.341612       -30.246191   \n",
       "\n",
       "     pressure  \n",
       "0  982.208453  \n",
       "1  983.934538  \n",
       "2  909.028954  \n",
       "3  983.633446  \n",
       "4  981.009232  "
      ]
     },
     "execution_count": 6,
     "metadata": {},
     "output_type": "execute_result"
    }
   ],
   "source": [
    "df.head()"
   ]
  },
  {
   "cell_type": "code",
   "execution_count": 7,
   "id": "b9069a5e-e99e-4d76-b0fc-7e0fd146ff43",
   "metadata": {
    "tags": []
   },
   "outputs": [],
   "source": [
    "# Attempt to get real place names (this may take some time and might hit API limits)\n",
    "#geolocator = Nominatim(user_agent=\"alis_texas_data\")\n",
    "\n",
    "#def get_place_name(lat, lon, retries=3):\n",
    "  #  global geolocator  # Ensure geolocator is accessed globally\n",
    "    \n",
    "   # try:\n",
    "    #    location = geolocator.reverse(f\"{lat}, {lon}\", timeout=10)  # Adjust timeout if necessary\n",
    "     #   if location is not None and 'address' in location.raw:\n",
    "     #       return location.raw['address'].get('city', 'Unknown')\n",
    "     #   else:\n",
    "     #       return 'Unknown'\n",
    "   # except GeocoderTimedOut as e:\n",
    "    #    print(f\"Geocoder service timed out: {e}\")\n",
    "    #    if retries > 0:\n",
    "     #       print(f\"Retrying after 2 seconds... Attempts left: {retries}\")\n",
    "      #      time.sleep(2)\n",
    "      #      return get_place_name(lat, lon, retries=retries - 1)\n",
    "       # else:\n",
    "        #    print(\"Maximum retries reached. Returning 'Unknown'.\")\n",
    "         #   return 'Unknown'\n",
    "   # except GeocoderServiceError as e:\n",
    "    #    print(f\"Geocoder service error: {e}\")\n",
    "     #   return 'Unknown'\n",
    "    #except Exception as e:\n",
    "     #   print(f\"Error retrieving place name: {str(e)}\")\n",
    "      #  return 'Unknown'\n",
    "    \n",
    "#df['place_name'] = df.apply(lambda row: get_place_name(row['latitude'], row['longitude']), axis=1)"
   ]
  },
  {
   "cell_type": "code",
   "execution_count": 8,
   "id": "a65ddd9a-64ad-4457-92f1-1d85575a91da",
   "metadata": {
    "tags": []
   },
   "outputs": [
    {
     "name": "stdout",
     "output_type": "stream",
     "text": [
      "          latitude    longitude    elevation  magnetic_field  gravity_anomaly  \\\n",
      "count  1000.000000  1000.000000  1000.000000     1000.000000      1000.000000   \n",
      "mean     31.065000   -99.984762   502.405726    49457.477088        -0.485975   \n",
      "std       3.115236     3.838586   290.674195     1387.993538        22.802862   \n",
      "min      25.886494  -106.603321     0.011635    45904.245531       -64.595799   \n",
      "25%      28.353425  -103.478535   261.350977    48298.568766       -19.293227   \n",
      "50%      31.134855   -99.830837   500.613920    49457.477088        -0.485975   \n",
      "75%      33.774226   -96.655142   759.103527    50590.359808        17.973152   \n",
      "max      36.497689   -93.516002   997.820856    52488.391389        55.213678   \n",
      "\n",
      "          pressure  \n",
      "count  1000.000000  \n",
      "mean    954.811500  \n",
      "std      33.279723  \n",
      "min     899.001220  \n",
      "25%     925.333551  \n",
      "50%     954.547618  \n",
      "75%     982.250000  \n",
      "max    1013.248603  \n"
     ]
    }
   ],
   "source": [
    "# Save to CSV\n",
    "df_filled = df.fillna(df.mean())\n",
    "df_filled.to_csv('texas_alis_data.csv', index=False)\n",
    "#print(df.head())\n",
    "print(df_filled.describe())"
   ]
  },
  {
   "cell_type": "code",
   "execution_count": null,
   "id": "ff902ee8-1bce-4b65-9826-1753d53747d1",
   "metadata": {},
   "outputs": [],
   "source": []
  },
  {
   "cell_type": "code",
   "execution_count": null,
   "id": "09e589fc-05b1-4eb6-a662-d7f51a18eb6e",
   "metadata": {},
   "outputs": [],
   "source": []
  },
  {
   "cell_type": "code",
   "execution_count": 9,
   "id": "c1058a22-4d9e-499b-8026-dc74d854fbc1",
   "metadata": {
    "tags": []
   },
   "outputs": [],
   "source": [
    "import numpy as np\n",
    "import tensorflow as tf\n",
    "from tensorflow import keras\n",
    "from sklearn.model_selection import train_test_split\n",
    "from sklearn.preprocessing import StandardScaler\n",
    "from sklearn.neighbors import NearestNeighbors\n",
    "\n",
    "\n",
    "class AnomalyPredictor:\n",
    "    def __init__(self):\n",
    "        self.model = None\n",
    "        self.scaler_X = StandardScaler()\n",
    "        self.scaler_y = StandardScaler()\n",
    "\n",
    "    def create_model(self):\n",
    "        model = keras.Sequential([\n",
    "            keras.layers.Dense(64, activation='relu', input_shape=(3,)),\n",
    "            keras.layers.Dense(32, activation='relu'),\n",
    "            keras.layers.Dense(16, activation='relu'),\n",
    "            keras.layers.Dense(2)  # Output layer: [magnetic_anomaly, gravity_anomaly]\n",
    "        ])\n",
    "        \n",
    "        model.compile(optimizer='adam', loss='mse', metrics=['mae'])\n",
    "        self.model = model\n",
    "\n",
    "    def train(self, X, y, epochs=50, batch_size=64):\n",
    "        X_scaled = self.scaler_X.fit_transform(X)\n",
    "        y_scaled = self.scaler_y.fit_transform(y)\n",
    "        \n",
    "        X_train, X_val, y_train, y_val = train_test_split(X_scaled, y_scaled, test_size=0.3, random_state=42)\n",
    "        \n",
    "        history = self.model.fit(\n",
    "            X_train, y_train,\n",
    "            validation_data=(X_val, y_val),\n",
    "            epochs=epochs,\n",
    "            batch_size=batch_size,\n",
    "            verbose=1\n",
    "        )\n",
    "        return history\n",
    "\n",
    "    def predict(self, X):\n",
    "        X_scaled = self.scaler_X.transform(X)\n",
    "        y_pred_scaled = self.model.predict(X_scaled)\n",
    "        return self.scaler_y.inverse_transform(y_pred_scaled)\n"
   ]
  },
  {
   "cell_type": "code",
   "execution_count": 10,
   "id": "241091f8-ade7-4cb8-9375-1436fcb708d7",
   "metadata": {
    "tags": []
   },
   "outputs": [],
   "source": [
    "class MultiDimensionalVAP:\n",
    "    def __init__(self, dataframe):\n",
    "        self.data = dataframe\n",
    "        self.nbrs = NearestNeighbors(n_neighbors=3, algorithm='ball_tree').fit(self.data[['latitude', 'longitude']])\n",
    "\n",
    "    def add_vap(self, latitude, longitude, elevation, magnetic_field, gravity_anomaly, pressure):\n",
    "        new_vap = pd.DataFrame({\n",
    "            'latitude': [latitude],\n",
    "            'longitude': [longitude],\n",
    "            'elevation': [elevation],\n",
    "            'magnetic_field': [magnetic_field],\n",
    "            'gravity_anomaly': [gravity_anomaly],\n",
    "            'pressure': [pressure]\n",
    "        })\n",
    "        self.data = pd.concat([self.data, new_vap], ignore_index=True)\n",
    "        self.nbrs.fit(self.data[['latitude', 'longitude']])\n",
    "\n",
    "    def find_nearest_vaps(self, latitude, longitude, num_vaps=3):\n",
    "        distances, indices = self.nbrs.kneighbors([[latitude, longitude]], n_neighbors=num_vaps)\n",
    "        return self.data.iloc[indices[0]]\n",
    "    \n",
    "    def interpolate_position(self, vaps, magnetic_reading, gravity_reading, pressure_reading):\n",
    "        \"\"\"\n",
    "        Interpolates the position based on given readings.\n",
    "        \n",
    "        Parameters:\n",
    "        vaps (pd.DataFrame): DataFrame containing VAPs data.\n",
    "        magnetic_reading (float): Magnetic field reading.\n",
    "        gravity_reading (float): Gravity anomaly reading.\n",
    "        pressure_reading (float): Atmospheric pressure reading.\n",
    "        \n",
    "        Returns:\n",
    "        dict: A dictionary containing the interpolated position and readings.\n",
    "        \"\"\"\n",
    "        # Placeholder implementation\n",
    "        # You can add more sophisticated logic here based on your application requirements\n",
    "        \n",
    "        # For this example, just returning a simple dictionary with the provided readings\n",
    "        \n",
    "        return {\n",
    "            'latitude': vaps.iloc[0]['latitude'],\n",
    "            'longitude': vaps.iloc[0]['longitude'],\n",
    "            'elevation': vaps.iloc[0]['elevation'],\n",
    "            'magnetic_field': magnetic_reading,\n",
    "            'gravity_anomaly': gravity_reading,\n",
    "            'pressure': pressure_reading\n",
    "        }"
   ]
  },
  {
   "cell_type": "code",
   "execution_count": 11,
   "id": "1bec0728-0dd9-423f-bb0b-2ff31ba25b8e",
   "metadata": {
    "tags": []
   },
   "outputs": [],
   "source": [
    "class EnhancedMultiDimensionalVAP(MultiDimensionalVAP):\n",
    "    def __init__(self, db_path):\n",
    "        super().__init__(db_path)\n",
    "        self.anomaly_predictor = AnomalyPredictor()\n",
    "        self.train_predictor()\n",
    "\n",
    "    def train_predictor(self):\n",
    "        # Fetch all VAP data\n",
    "        #self.cursor.execute('SELECT latitude, longitude, magnetic_anomaly, gravity_anomaly FROM multi_vaps')\n",
    "        data = self.data[['latitude', 'longitude', 'elevation', 'magnetic_field', 'gravity_anomaly']]\n",
    "        X = data[['latitude', 'longitude', 'elevation']].values\n",
    "        y = data[['magnetic_field', 'gravity_anomaly']].values\n",
    "        \n",
    "        self.anomaly_predictor.create_model()\n",
    "        self.anomaly_predictor.train(X, y)\n",
    "\n",
    "    def predict_anomalies(self, lat, lon, elevation):\n",
    "        X = np.array([[lat, lon, elevation]])\n",
    "        y_pred = self.anomaly_predictor.predict(X)\n",
    "        return y_pred[0]\n",
    "        \n",
    "    def interpolate_position(self, vaps, magnetic_reading, gravity_reading, pressure_reading):\n",
    "        if len(vaps) < 3:  # If we have very sparse data\n",
    "            # Predict anomalies for the current location\n",
    "            lat, lon = vaps.iloc[0]['latitude'], vaps.iloc[0]['longitude']  # Use the nearest VAP's location as an approximation\n",
    "            elevation = 100  # Assume a constant elevation for simplicity\n",
    "            predicted_anomalies = self.predict_anomalies(lat, lon, elevation)\n",
    "\n",
    "            # Create a DataFrame with the new row\n",
    "            new_row = pd.DataFrame({\n",
    "                'latitude': [lat],\n",
    "                'longitude': [lon],\n",
    "                'elevation': [elevation],\n",
    "                'magnetic_field': [predicted_anomalies[0]],\n",
    "                'gravity_anomaly': [predicted_anomalies[1]],\n",
    "                'pressure': [pressure_reading],\n",
    "                'some_other_field': [0.5]  # Adjust as necessary\n",
    "            })\n",
    "\n",
    "            # Combine the original DataFrame with the new row\n",
    "            combined_vaps = pd.concat([vaps, new_row], ignore_index=True)\n",
    "\n",
    "            return super().interpolate_position(combined_vaps, magnetic_reading, gravity_reading, pressure_reading)\n",
    "        else:\n",
    "            return super().interpolate_position(vaps, magnetic_reading, gravity_reading, pressure_reading)\n",
    "        \n",
    "    def calculate_confidence(self, vaps, magnetic_reading, gravity_reading, pressure_reading):\n",
    "        \"\"\"\n",
    "        Calculate the confidence of the interpolation based on the VAPs data and the readings.\n",
    "        \n",
    "        Parameters:\n",
    "        vaps (pd.DataFrame): DataFrame containing VAPs data.\n",
    "        magnetic_reading (float): Magnetic field reading.\n",
    "        gravity_reading (float): Gravity anomaly reading.\n",
    "        pressure_reading (float): Atmospheric pressure reading.\n",
    "        \n",
    "        Returns:\n",
    "        float: Confidence value (0 to 1).\n",
    "        \"\"\"\n",
    "        if len(vaps) < 2:\n",
    "            return 0.5  # If less than 2 VAPs, return a low confidence by default\n",
    "        \n",
    "        # Calculate distance-based confidence\n",
    "        lat_mean = vaps['latitude'].mean()\n",
    "        lon_mean = vaps['longitude'].mean()\n",
    "        distances = np.sqrt((vaps['latitude'] - lat_mean)**2 + (vaps['longitude'] - lon_mean)**2)\n",
    "        distance_confidence = 1 - np.mean(distances)  # Closer VAPs give higher confidence\n",
    "        \n",
    "        # Calculate reading variance-based confidence\n",
    "        magnetic_variance = vaps['magnetic_field'].var()\n",
    "        gravity_variance = vaps['gravity_anomaly'].var()\n",
    "        pressure_variance = vaps['pressure'].var()\n",
    "        reading_variance = (magnetic_variance + gravity_variance + pressure_variance) / 3\n",
    "        reading_confidence = 1 / (1 + reading_variance)  # Lower variance gives higher confidence\n",
    "        \n",
    "        # Combine both confidences\n",
    "        combined_confidence = (distance_confidence + reading_confidence) / 2\n",
    "        \n",
    "        # Ensure confidence is between 0 and 1\n",
    "        return max(0, min(1, combined_confidence))\n"
   ]
  },
  {
   "cell_type": "code",
   "execution_count": 12,
   "id": "7c133f7b-682e-4c0d-93e8-b39a38040154",
   "metadata": {
    "scrolled": true,
    "tags": []
   },
   "outputs": [
    {
     "name": "stdout",
     "output_type": "stream",
     "text": [
      "Epoch 1/50\n",
      "11/11 [==============================] - 0s 9ms/step - loss: 1.0034 - mae: 0.8558 - val_loss: 1.0189 - val_mae: 0.8572\n",
      "Epoch 2/50\n",
      "11/11 [==============================] - 0s 2ms/step - loss: 0.9922 - mae: 0.8503 - val_loss: 1.0167 - val_mae: 0.8565\n",
      "Epoch 3/50\n",
      "11/11 [==============================] - 0s 2ms/step - loss: 0.9889 - mae: 0.8489 - val_loss: 1.0162 - val_mae: 0.8562\n",
      "Epoch 4/50\n",
      "11/11 [==============================] - 0s 2ms/step - loss: 0.9863 - mae: 0.8476 - val_loss: 1.0161 - val_mae: 0.8558\n",
      "Epoch 5/50\n",
      "11/11 [==============================] - 0s 2ms/step - loss: 0.9852 - mae: 0.8473 - val_loss: 1.0181 - val_mae: 0.8567\n",
      "Epoch 6/50\n",
      "11/11 [==============================] - 0s 2ms/step - loss: 0.9835 - mae: 0.8467 - val_loss: 1.0174 - val_mae: 0.8566\n",
      "Epoch 7/50\n",
      "11/11 [==============================] - 0s 2ms/step - loss: 0.9812 - mae: 0.8457 - val_loss: 1.0175 - val_mae: 0.8570\n",
      "Epoch 8/50\n",
      "11/11 [==============================] - 0s 2ms/step - loss: 0.9806 - mae: 0.8456 - val_loss: 1.0182 - val_mae: 0.8575\n",
      "Epoch 9/50\n",
      "11/11 [==============================] - 0s 2ms/step - loss: 0.9792 - mae: 0.8450 - val_loss: 1.0163 - val_mae: 0.8565\n",
      "Epoch 10/50\n",
      "11/11 [==============================] - 0s 2ms/step - loss: 0.9781 - mae: 0.8446 - val_loss: 1.0165 - val_mae: 0.8566\n",
      "Epoch 11/50\n",
      "11/11 [==============================] - 0s 2ms/step - loss: 0.9771 - mae: 0.8443 - val_loss: 1.0165 - val_mae: 0.8566\n",
      "Epoch 12/50\n",
      "11/11 [==============================] - 0s 2ms/step - loss: 0.9759 - mae: 0.8435 - val_loss: 1.0170 - val_mae: 0.8570\n",
      "Epoch 13/50\n",
      "11/11 [==============================] - 0s 2ms/step - loss: 0.9758 - mae: 0.8432 - val_loss: 1.0177 - val_mae: 0.8576\n",
      "Epoch 14/50\n",
      "11/11 [==============================] - 0s 2ms/step - loss: 0.9737 - mae: 0.8428 - val_loss: 1.0164 - val_mae: 0.8567\n",
      "Epoch 15/50\n",
      "11/11 [==============================] - 0s 2ms/step - loss: 0.9743 - mae: 0.8427 - val_loss: 1.0154 - val_mae: 0.8562\n",
      "Epoch 16/50\n",
      "11/11 [==============================] - 0s 2ms/step - loss: 0.9727 - mae: 0.8422 - val_loss: 1.0178 - val_mae: 0.8577\n",
      "Epoch 17/50\n",
      "11/11 [==============================] - 0s 2ms/step - loss: 0.9719 - mae: 0.8420 - val_loss: 1.0168 - val_mae: 0.8571\n",
      "Epoch 18/50\n",
      "11/11 [==============================] - 0s 6ms/step - loss: 0.9705 - mae: 0.8413 - val_loss: 1.0172 - val_mae: 0.8574\n",
      "Epoch 19/50\n",
      "11/11 [==============================] - 0s 2ms/step - loss: 0.9697 - mae: 0.8410 - val_loss: 1.0172 - val_mae: 0.8573\n",
      "Epoch 20/50\n",
      "11/11 [==============================] - 0s 2ms/step - loss: 0.9685 - mae: 0.8403 - val_loss: 1.0169 - val_mae: 0.8573\n",
      "Epoch 21/50\n",
      "11/11 [==============================] - 0s 3ms/step - loss: 0.9678 - mae: 0.8401 - val_loss: 1.0181 - val_mae: 0.8578\n",
      "Epoch 22/50\n",
      "11/11 [==============================] - 0s 2ms/step - loss: 0.9670 - mae: 0.8396 - val_loss: 1.0188 - val_mae: 0.8583\n",
      "Epoch 23/50\n",
      "11/11 [==============================] - 0s 2ms/step - loss: 0.9660 - mae: 0.8392 - val_loss: 1.0168 - val_mae: 0.8572\n",
      "Epoch 24/50\n",
      "11/11 [==============================] - 0s 2ms/step - loss: 0.9660 - mae: 0.8389 - val_loss: 1.0185 - val_mae: 0.8582\n",
      "Epoch 25/50\n",
      "11/11 [==============================] - 0s 2ms/step - loss: 0.9647 - mae: 0.8386 - val_loss: 1.0209 - val_mae: 0.8590\n",
      "Epoch 26/50\n",
      "11/11 [==============================] - 0s 2ms/step - loss: 0.9644 - mae: 0.8386 - val_loss: 1.0195 - val_mae: 0.8585\n",
      "Epoch 27/50\n",
      "11/11 [==============================] - 0s 2ms/step - loss: 0.9633 - mae: 0.8375 - val_loss: 1.0188 - val_mae: 0.8586\n",
      "Epoch 28/50\n",
      "11/11 [==============================] - 0s 2ms/step - loss: 0.9619 - mae: 0.8365 - val_loss: 1.0200 - val_mae: 0.8589\n",
      "Epoch 29/50\n",
      "11/11 [==============================] - 0s 2ms/step - loss: 0.9613 - mae: 0.8372 - val_loss: 1.0222 - val_mae: 0.8596\n",
      "Epoch 30/50\n",
      "11/11 [==============================] - 0s 2ms/step - loss: 0.9601 - mae: 0.8363 - val_loss: 1.0213 - val_mae: 0.8593\n",
      "Epoch 31/50\n",
      "11/11 [==============================] - 0s 2ms/step - loss: 0.9593 - mae: 0.8355 - val_loss: 1.0209 - val_mae: 0.8590\n",
      "Epoch 32/50\n",
      "11/11 [==============================] - 0s 2ms/step - loss: 0.9578 - mae: 0.8347 - val_loss: 1.0220 - val_mae: 0.8595\n",
      "Epoch 33/50\n",
      "11/11 [==============================] - 0s 2ms/step - loss: 0.9576 - mae: 0.8349 - val_loss: 1.0245 - val_mae: 0.8604\n",
      "Epoch 34/50\n",
      "11/11 [==============================] - 0s 2ms/step - loss: 0.9560 - mae: 0.8345 - val_loss: 1.0218 - val_mae: 0.8598\n",
      "Epoch 35/50\n",
      "11/11 [==============================] - 0s 2ms/step - loss: 0.9559 - mae: 0.8341 - val_loss: 1.0219 - val_mae: 0.8600\n",
      "Epoch 36/50\n",
      "11/11 [==============================] - 0s 2ms/step - loss: 0.9542 - mae: 0.8332 - val_loss: 1.0246 - val_mae: 0.8604\n",
      "Epoch 37/50\n",
      "11/11 [==============================] - 0s 2ms/step - loss: 0.9527 - mae: 0.8323 - val_loss: 1.0235 - val_mae: 0.8603\n",
      "Epoch 38/50\n",
      "11/11 [==============================] - 0s 2ms/step - loss: 0.9532 - mae: 0.8325 - val_loss: 1.0252 - val_mae: 0.8610\n",
      "Epoch 39/50\n",
      "11/11 [==============================] - 0s 2ms/step - loss: 0.9523 - mae: 0.8323 - val_loss: 1.0266 - val_mae: 0.8611\n",
      "Epoch 40/50\n",
      "11/11 [==============================] - 0s 2ms/step - loss: 0.9508 - mae: 0.8310 - val_loss: 1.0226 - val_mae: 0.8606\n",
      "Epoch 41/50\n",
      "11/11 [==============================] - 0s 2ms/step - loss: 0.9505 - mae: 0.8309 - val_loss: 1.0263 - val_mae: 0.8615\n",
      "Epoch 42/50\n",
      "11/11 [==============================] - 0s 2ms/step - loss: 0.9484 - mae: 0.8302 - val_loss: 1.0272 - val_mae: 0.8619\n",
      "Epoch 43/50\n",
      "11/11 [==============================] - 0s 2ms/step - loss: 0.9477 - mae: 0.8299 - val_loss: 1.0281 - val_mae: 0.8625\n",
      "Epoch 44/50\n",
      "11/11 [==============================] - 0s 2ms/step - loss: 0.9482 - mae: 0.8298 - val_loss: 1.0258 - val_mae: 0.8616\n",
      "Epoch 45/50\n",
      "11/11 [==============================] - 0s 2ms/step - loss: 0.9462 - mae: 0.8288 - val_loss: 1.0310 - val_mae: 0.8637\n",
      "Epoch 46/50\n",
      "11/11 [==============================] - 0s 2ms/step - loss: 0.9450 - mae: 0.8285 - val_loss: 1.0294 - val_mae: 0.8633\n",
      "Epoch 47/50\n",
      "11/11 [==============================] - 0s 2ms/step - loss: 0.9438 - mae: 0.8278 - val_loss: 1.0299 - val_mae: 0.8631\n",
      "Epoch 48/50\n",
      "11/11 [==============================] - 0s 6ms/step - loss: 0.9449 - mae: 0.8282 - val_loss: 1.0314 - val_mae: 0.8637\n",
      "Epoch 49/50\n",
      "11/11 [==============================] - 0s 2ms/step - loss: 0.9429 - mae: 0.8273 - val_loss: 1.0275 - val_mae: 0.8621\n",
      "Epoch 50/50\n",
      "11/11 [==============================] - 0s 2ms/step - loss: 0.9410 - mae: 0.8266 - val_loss: 1.0323 - val_mae: 0.8640\n"
     ]
    }
   ],
   "source": [
    "# Usage example\n",
    "vap_system = EnhancedMultiDimensionalVAP(df_filled)"
   ]
  },
  {
   "cell_type": "code",
   "execution_count": 13,
   "id": "d6a155d9-3826-4706-b7ad-6981fe64473a",
   "metadata": {
    "tags": []
   },
   "outputs": [],
   "source": [
    "# Add some sample VAPs (this would typically be done with real data)\n",
    "vap_system.add_vap(37.7749, -122.4194, 100, 50000, 8,1013)\n",
    "vap_system.add_vap(37.7750, -122.4195, 110, 55000, 7,1012)\n",
    "vap_system.add_vap(37.7748, -122.4193, 90, 45000, 9, 1014)"
   ]
  },
  {
   "cell_type": "code",
   "execution_count": 14,
   "id": "3947e0b8-b4cd-42d0-8546-5dfc43a97d73",
   "metadata": {
    "tags": []
   },
   "outputs": [],
   "source": [
    "#df_filled.head(30)"
   ]
  },
  {
   "cell_type": "code",
   "execution_count": 15,
   "id": "764aeb65-3e63-4c79-a416-944943dd4899",
   "metadata": {
    "tags": []
   },
   "outputs": [
    {
     "name": "stderr",
     "output_type": "stream",
     "text": [
      "/Users/juanmanuelpaiba/.pyenv/versions/3.8.17/lib/python3.8/site-packages/sklearn/base.py:439: UserWarning: X does not have valid feature names, but NearestNeighbors was fitted with feature names\n",
      "  warnings.warn(\n"
     ]
    }
   ],
   "source": [
    "# Find nearest VAPs\n",
    "nearest_vaps = vap_system.find_nearest_vaps(37.7751, -122.4196, num_vaps=2)  # Intentionally using only 2 VAPs to simulate sparse data"
   ]
  },
  {
   "cell_type": "code",
   "execution_count": 16,
   "id": "adee37d4-5c07-4e11-9216-30a5b212a609",
   "metadata": {
    "tags": []
   },
   "outputs": [
    {
     "data": {
      "text/html": [
       "<div>\n",
       "<style scoped>\n",
       "    .dataframe tbody tr th:only-of-type {\n",
       "        vertical-align: middle;\n",
       "    }\n",
       "\n",
       "    .dataframe tbody tr th {\n",
       "        vertical-align: top;\n",
       "    }\n",
       "\n",
       "    .dataframe thead th {\n",
       "        text-align: right;\n",
       "    }\n",
       "</style>\n",
       "<table border=\"1\" class=\"dataframe\">\n",
       "  <thead>\n",
       "    <tr style=\"text-align: right;\">\n",
       "      <th></th>\n",
       "      <th>latitude</th>\n",
       "      <th>longitude</th>\n",
       "      <th>elevation</th>\n",
       "      <th>magnetic_field</th>\n",
       "      <th>gravity_anomaly</th>\n",
       "      <th>pressure</th>\n",
       "    </tr>\n",
       "  </thead>\n",
       "  <tbody>\n",
       "    <tr>\n",
       "      <th>1001</th>\n",
       "      <td>37.7750</td>\n",
       "      <td>-122.4195</td>\n",
       "      <td>110.0</td>\n",
       "      <td>55000.0</td>\n",
       "      <td>7.0</td>\n",
       "      <td>1012.0</td>\n",
       "    </tr>\n",
       "    <tr>\n",
       "      <th>1000</th>\n",
       "      <td>37.7749</td>\n",
       "      <td>-122.4194</td>\n",
       "      <td>100.0</td>\n",
       "      <td>50000.0</td>\n",
       "      <td>8.0</td>\n",
       "      <td>1013.0</td>\n",
       "    </tr>\n",
       "  </tbody>\n",
       "</table>\n",
       "</div>"
      ],
      "text/plain": [
       "      latitude  longitude  elevation  magnetic_field  gravity_anomaly  \\\n",
       "1001   37.7750  -122.4195      110.0         55000.0              7.0   \n",
       "1000   37.7749  -122.4194      100.0         50000.0              8.0   \n",
       "\n",
       "      pressure  \n",
       "1001    1012.0  \n",
       "1000    1013.0  "
      ]
     },
     "execution_count": 16,
     "metadata": {},
     "output_type": "execute_result"
    }
   ],
   "source": [
    "nearest_vaps"
   ]
  },
  {
   "cell_type": "code",
   "execution_count": 17,
   "id": "56576fde-9e7e-47c4-a9e7-0e91b8e2fffc",
   "metadata": {
    "tags": []
   },
   "outputs": [
    {
     "name": "stdout",
     "output_type": "stream",
     "text": [
      "1/1 [==============================] - 0s 39ms/step\n"
     ]
    }
   ],
   "source": [
    "# Interpolate position\n",
    "estimated_position = vap_system.interpolate_position(nearest_vaps, 52000, 8, 1013)"
   ]
  },
  {
   "cell_type": "code",
   "execution_count": 18,
   "id": "21be9899-1ea2-4168-9576-083ea7ad68e3",
   "metadata": {
    "tags": []
   },
   "outputs": [
    {
     "data": {
      "text/plain": [
       "{'latitude': 37.775,\n",
       " 'longitude': -122.4195,\n",
       " 'elevation': 110.0,\n",
       " 'magnetic_field': 52000,\n",
       " 'gravity_anomaly': 8,\n",
       " 'pressure': 1013}"
      ]
     },
     "execution_count": 18,
     "metadata": {},
     "output_type": "execute_result"
    }
   ],
   "source": [
    "estimated_position"
   ]
  },
  {
   "cell_type": "code",
   "execution_count": 19,
   "id": "bc91e3ee-268d-44e9-a443-525bc6d9c442",
   "metadata": {
    "tags": []
   },
   "outputs": [],
   "source": [
    "# Calculate confidence\n",
    "confidence = vap_system.calculate_confidence(nearest_vaps, 52000, 8, 1013)"
   ]
  },
  {
   "cell_type": "code",
   "execution_count": 20,
   "id": "de1c63e5-3250-42e6-a5a5-c0cb63f8ca3d",
   "metadata": {
    "tags": []
   },
   "outputs": [
    {
     "name": "stdout",
     "output_type": "stream",
     "text": [
      "Estimated position: {'latitude': 37.775, 'longitude': -122.4195, 'elevation': 110.0, 'magnetic_field': 52000, 'gravity_anomaly': 8, 'pressure': 1013}\n",
      "Confidence: 0.49996476466090234\n",
      "1/1 [==============================] - 0s 10ms/step\n",
      "Predicted anomalies: Magnetic = 49866.234375, Gravity = -10.199071884155273\n"
     ]
    }
   ],
   "source": [
    "print(f\"Estimated position: {estimated_position}\")\n",
    "print(f\"Confidence: {confidence}\")\n",
    "\n",
    "# Predict anomalies for a new location\n",
    "predicted_anomalies = vap_system.predict_anomalies(37.7752, -122.4197, 100)\n",
    "print(f\"Predicted anomalies: Magnetic = {predicted_anomalies[0]}, Gravity = {predicted_anomalies[1]}\")\n"
   ]
  },
  {
   "cell_type": "code",
   "execution_count": null,
   "id": "f903b5e5-eb29-4628-a02f-a3899a9c517d",
   "metadata": {},
   "outputs": [],
   "source": []
  },
  {
   "cell_type": "code",
   "execution_count": null,
   "id": "34fe645d-5d63-4cc4-a711-131505ade958",
   "metadata": {},
   "outputs": [],
   "source": []
  },
  {
   "cell_type": "code",
   "execution_count": null,
   "id": "1205bd87-5899-410d-9895-f6b99d878f46",
   "metadata": {
    "tags": []
   },
   "outputs": [],
   "source": []
  },
  {
   "cell_type": "code",
   "execution_count": null,
   "id": "b83db48f-23a8-4e04-a151-61316f7f25fa",
   "metadata": {},
   "outputs": [],
   "source": []
  },
  {
   "cell_type": "code",
   "execution_count": null,
   "id": "cd7b1dbc-dd55-47c0-a96e-8043df9acde8",
   "metadata": {},
   "outputs": [],
   "source": []
  },
  {
   "cell_type": "code",
   "execution_count": null,
   "id": "ff192ee0-d87b-4e35-92e9-1e75a7d3803a",
   "metadata": {},
   "outputs": [],
   "source": []
  },
  {
   "cell_type": "code",
   "execution_count": null,
   "id": "41b7bb5d-dec9-4846-b08d-f08059819f77",
   "metadata": {},
   "outputs": [],
   "source": []
  }
 ],
 "metadata": {
  "kernelspec": {
   "display_name": "Python 3",
   "language": "python",
   "name": "python3"
  },
  "language_info": {
   "codemirror_mode": {
    "name": "ipython",
    "version": 3
   },
   "file_extension": ".py",
   "mimetype": "text/x-python",
   "name": "python",
   "nbconvert_exporter": "python",
   "pygments_lexer": "ipython3",
   "version": "3.8.17"
  }
 },
 "nbformat": 4,
 "nbformat_minor": 5
}
