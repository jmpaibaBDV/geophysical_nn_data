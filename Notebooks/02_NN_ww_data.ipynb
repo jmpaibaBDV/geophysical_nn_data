{
 "cells": [
  {
   "cell_type": "code",
   "execution_count": 1,
   "metadata": {},
   "outputs": [],
   "source": [
    "import numpy as np\n",
    "import tensorflow as tf\n",
    "import matplotlib.pyplot as plt\n",
    "import pandas as pd\n",
    "import pandas as pd\n",
    "\n",
    "\n",
    "from tensorflow import keras\n",
    "from sklearn.model_selection import train_test_split\n",
    "from sklearn.preprocessing import StandardScaler\n",
    "from sklearn.model_selection import train_test_split\n",
    "from sklearn.metrics import mean_absolute_error, mean_squared_error\n",
    "from scipy.spatial.distance import euclidean\n",
    "from sklearn.neighbors import NearestNeighbors\n"
   ]
  },
  {
   "cell_type": "code",
   "execution_count": null,
   "metadata": {},
   "outputs": [],
   "source": []
  },
  {
   "cell_type": "code",
   "execution_count": 2,
   "metadata": {},
   "outputs": [],
   "source": [
    "class AnomalyPredictor:\n",
    "    def __init__(self):\n",
    "        self.model = None\n",
    "        self.scaler_X = StandardScaler()\n",
    "        self.scaler_y = StandardScaler()\n",
    "\n",
    "    def create_model(self):\n",
    "        model = keras.Sequential([\n",
    "            keras.layers.Dense(64, activation='relu', input_shape=(2,)),  # Adjust input shape\n",
    "            keras.layers.Dense(32, activation='relu'),\n",
    "            keras.layers.Dense(16, activation='relu'),\n",
    "            keras.layers.Dense(2)  # Output layer: [magnetic_anomaly, gravity_anomaly]\n",
    "        ])\n",
    "        \n",
    "        model.compile(optimizer='adam', loss='mse', metrics=['mae'])\n",
    "        self.model = model\n",
    "\n",
    "    def train(self, X, y, epochs=50, batch_size=128):\n",
    "        X_scaled = self.scaler_X.fit_transform(X)\n",
    "        y_scaled = self.scaler_y.fit_transform(y)\n",
    "        \n",
    "        X_train, X_val, y_train, y_val = train_test_split(X_scaled, y_scaled, test_size=0.3, random_state=42)\n",
    "        \n",
    "        history = self.model.fit(\n",
    "            X_train, y_train,\n",
    "            validation_data=(X_val, y_val),\n",
    "            epochs=epochs,\n",
    "            batch_size=batch_size,\n",
    "            verbose=1\n",
    "        )\n",
    "        return history\n",
    "\n",
    "    def predict(self, X):\n",
    "        X_scaled = self.scaler_X.transform(X)\n",
    "        y_pred_scaled = self.model.predict(X_scaled)\n",
    "        return self.scaler_y.inverse_transform(y_pred_scaled)\n"
   ]
  },
  {
   "cell_type": "code",
   "execution_count": 3,
   "metadata": {},
   "outputs": [],
   "source": [
    "import os\n",
    "os.getcwd()\n",
    "os.chdir('/Users/juanmanuelpaiba/Documents/Juan_Paiba/BairesDev/geophysical_nn_data')"
   ]
  },
  {
   "cell_type": "code",
   "execution_count": 4,
   "metadata": {},
   "outputs": [],
   "source": [
    "# Read the Parquet file\n",
    "file_path = 'Data/Outputs/nn_data.gzip.parquet'\n",
    "df = pd.read_parquet(file_path, engine='pyarrow')"
   ]
  },
  {
   "cell_type": "code",
   "execution_count": 5,
   "metadata": {},
   "outputs": [
    {
     "name": "stdout",
     "output_type": "stream",
     "text": [
      "(2000000, 4)\n"
     ]
    },
    {
     "data": {
      "text/html": [
       "<div>\n",
       "<style scoped>\n",
       "    .dataframe tbody tr th:only-of-type {\n",
       "        vertical-align: middle;\n",
       "    }\n",
       "\n",
       "    .dataframe tbody tr th {\n",
       "        vertical-align: top;\n",
       "    }\n",
       "\n",
       "    .dataframe thead th {\n",
       "        text-align: right;\n",
       "    }\n",
       "</style>\n",
       "<table border=\"1\" class=\"dataframe\">\n",
       "  <thead>\n",
       "    <tr style=\"text-align: right;\">\n",
       "      <th></th>\n",
       "      <th>latitude</th>\n",
       "      <th>longitude</th>\n",
       "      <th>grav_anom</th>\n",
       "      <th>Magnetic_Anomaly_mGal</th>\n",
       "    </tr>\n",
       "  </thead>\n",
       "  <tbody>\n",
       "    <tr>\n",
       "      <th>3091797</th>\n",
       "      <td>8.92</td>\n",
       "      <td>189.68</td>\n",
       "      <td>-8.4</td>\n",
       "      <td>-0.086023</td>\n",
       "    </tr>\n",
       "    <tr>\n",
       "      <th>2079975</th>\n",
       "      <td>29.92</td>\n",
       "      <td>329.32</td>\n",
       "      <td>40.8</td>\n",
       "      <td>-0.132539</td>\n",
       "    </tr>\n",
       "    <tr>\n",
       "      <th>995513</th>\n",
       "      <td>52.12</td>\n",
       "      <td>241.48</td>\n",
       "      <td>-11.4</td>\n",
       "      <td>-0.682569</td>\n",
       "    </tr>\n",
       "    <tr>\n",
       "      <th>5719008</th>\n",
       "      <td>-44.92</td>\n",
       "      <td>135.08</td>\n",
       "      <td>-5.7</td>\n",
       "      <td>-0.019397</td>\n",
       "    </tr>\n",
       "    <tr>\n",
       "      <th>6024424</th>\n",
       "      <td>-52.02</td>\n",
       "      <td>90.28</td>\n",
       "      <td>2.5</td>\n",
       "      <td>-0.707683</td>\n",
       "    </tr>\n",
       "  </tbody>\n",
       "</table>\n",
       "</div>"
      ],
      "text/plain": [
       "         latitude  longitude  grav_anom  Magnetic_Anomaly_mGal\n",
       "3091797      8.92     189.68       -8.4              -0.086023\n",
       "2079975     29.92     329.32       40.8              -0.132539\n",
       "995513      52.12     241.48      -11.4              -0.682569\n",
       "5719008    -44.92     135.08       -5.7              -0.019397\n",
       "6024424    -52.02      90.28        2.5              -0.707683"
      ]
     },
     "execution_count": 5,
     "metadata": {},
     "output_type": "execute_result"
    }
   ],
   "source": [
    "print(df.shape)\n",
    "df.head()"
   ]
  },
  {
   "cell_type": "code",
   "execution_count": 6,
   "metadata": {},
   "outputs": [],
   "source": [
    "# Create a smaller sample\n",
    "sample_size = 70000  # Adjust this number as needed\n",
    "df_sample = df.sample(n=sample_size, random_state=42)"
   ]
  },
  {
   "cell_type": "code",
   "execution_count": 7,
   "metadata": {},
   "outputs": [],
   "source": [
    "# Define X and y\n",
    "X = df_sample[['latitude', 'longitude']]\n",
    "y = df_sample[['grav_anom','Magnetic_Anomaly_mGal']]"
   ]
  },
  {
   "cell_type": "code",
   "execution_count": 8,
   "metadata": {},
   "outputs": [],
   "source": [
    "# Split the data into training and testing sets\n",
    "X_train, X_test, y_train, y_test = train_test_split(X, y, test_size=0.2, random_state=42)"
   ]
  },
  {
   "cell_type": "code",
   "execution_count": null,
   "metadata": {},
   "outputs": [],
   "source": []
  },
  {
   "cell_type": "code",
   "execution_count": 9,
   "metadata": {},
   "outputs": [
    {
     "name": "stdout",
     "output_type": "stream",
     "text": [
      "Epoch 1/50\n",
      "766/766 [==============================] - 1s 806us/step - loss: 0.9645 - mae: 0.6283 - val_loss: 0.9501 - val_mae: 0.6202\n",
      "Epoch 2/50\n",
      "766/766 [==============================] - 1s 840us/step - loss: 0.9309 - mae: 0.6105 - val_loss: 0.9234 - val_mae: 0.6032\n",
      "Epoch 3/50\n",
      "766/766 [==============================] - 1s 824us/step - loss: 0.9128 - mae: 0.5994 - val_loss: 0.9077 - val_mae: 0.5917\n",
      "Epoch 4/50\n",
      "766/766 [==============================] - 1s 885us/step - loss: 0.8990 - mae: 0.5903 - val_loss: 0.8952 - val_mae: 0.5843\n",
      "Epoch 5/50\n",
      "766/766 [==============================] - 1s 758us/step - loss: 0.8878 - mae: 0.5825 - val_loss: 0.8831 - val_mae: 0.5777\n",
      "Epoch 6/50\n",
      "766/766 [==============================] - 1s 953us/step - loss: 0.8803 - mae: 0.5776 - val_loss: 0.8784 - val_mae: 0.5747\n",
      "Epoch 7/50\n",
      "766/766 [==============================] - 1s 905us/step - loss: 0.8740 - mae: 0.5734 - val_loss: 0.8767 - val_mae: 0.5729\n",
      "Epoch 8/50\n",
      "766/766 [==============================] - 1s 732us/step - loss: 0.8687 - mae: 0.5692 - val_loss: 0.8696 - val_mae: 0.5683\n",
      "Epoch 9/50\n",
      "766/766 [==============================] - 1s 714us/step - loss: 0.8654 - mae: 0.5662 - val_loss: 0.8622 - val_mae: 0.5602\n",
      "Epoch 10/50\n",
      "766/766 [==============================] - 1s 778us/step - loss: 0.8610 - mae: 0.5636 - val_loss: 0.8603 - val_mae: 0.5627\n",
      "Epoch 11/50\n",
      "766/766 [==============================] - 1s 718us/step - loss: 0.8600 - mae: 0.5624 - val_loss: 0.8582 - val_mae: 0.5593\n",
      "Epoch 12/50\n",
      "766/766 [==============================] - 1s 713us/step - loss: 0.8576 - mae: 0.5610 - val_loss: 0.8532 - val_mae: 0.5562\n",
      "Epoch 13/50\n",
      "766/766 [==============================] - 1s 775us/step - loss: 0.8561 - mae: 0.5592 - val_loss: 0.8545 - val_mae: 0.5563\n",
      "Epoch 14/50\n",
      "766/766 [==============================] - 1s 715us/step - loss: 0.8534 - mae: 0.5574 - val_loss: 0.8585 - val_mae: 0.5561\n",
      "Epoch 15/50\n",
      "766/766 [==============================] - 1s 711us/step - loss: 0.8520 - mae: 0.5561 - val_loss: 0.8558 - val_mae: 0.5574\n",
      "Epoch 16/50\n",
      "766/766 [==============================] - 1s 778us/step - loss: 0.8499 - mae: 0.5555 - val_loss: 0.8547 - val_mae: 0.5547\n",
      "Epoch 17/50\n",
      "766/766 [==============================] - 1s 712us/step - loss: 0.8497 - mae: 0.5546 - val_loss: 0.8529 - val_mae: 0.5545\n",
      "Epoch 18/50\n",
      "766/766 [==============================] - 1s 724us/step - loss: 0.8492 - mae: 0.5533 - val_loss: 0.8499 - val_mae: 0.5503\n",
      "Epoch 19/50\n",
      "766/766 [==============================] - 1s 776us/step - loss: 0.8478 - mae: 0.5527 - val_loss: 0.8523 - val_mae: 0.5526\n",
      "Epoch 20/50\n",
      "766/766 [==============================] - 1s 709us/step - loss: 0.8465 - mae: 0.5522 - val_loss: 0.8475 - val_mae: 0.5513\n",
      "Epoch 21/50\n",
      "766/766 [==============================] - 1s 714us/step - loss: 0.8468 - mae: 0.5518 - val_loss: 0.8468 - val_mae: 0.5480\n",
      "Epoch 22/50\n",
      "766/766 [==============================] - 1s 774us/step - loss: 0.8457 - mae: 0.5513 - val_loss: 0.8448 - val_mae: 0.5460\n",
      "Epoch 23/50\n",
      "766/766 [==============================] - 1s 709us/step - loss: 0.8447 - mae: 0.5507 - val_loss: 0.8503 - val_mae: 0.5529\n",
      "Epoch 24/50\n",
      "766/766 [==============================] - 1s 719us/step - loss: 0.8441 - mae: 0.5504 - val_loss: 0.8461 - val_mae: 0.5512\n",
      "Epoch 25/50\n",
      "766/766 [==============================] - 1s 767us/step - loss: 0.8434 - mae: 0.5492 - val_loss: 0.8477 - val_mae: 0.5510\n",
      "Epoch 26/50\n",
      "766/766 [==============================] - 1s 796us/step - loss: 0.8430 - mae: 0.5499 - val_loss: 0.8458 - val_mae: 0.5477\n",
      "Epoch 27/50\n",
      "766/766 [==============================] - 1s 786us/step - loss: 0.8428 - mae: 0.5486 - val_loss: 0.8446 - val_mae: 0.5467\n",
      "Epoch 28/50\n",
      "766/766 [==============================] - 1s 848us/step - loss: 0.8414 - mae: 0.5483 - val_loss: 0.8464 - val_mae: 0.5493\n",
      "Epoch 29/50\n",
      "766/766 [==============================] - 1s 710us/step - loss: 0.8410 - mae: 0.5479 - val_loss: 0.8416 - val_mae: 0.5443\n",
      "Epoch 30/50\n",
      "766/766 [==============================] - 1s 717us/step - loss: 0.8409 - mae: 0.5473 - val_loss: 0.8446 - val_mae: 0.5491\n",
      "Epoch 31/50\n",
      "766/766 [==============================] - 1s 884us/step - loss: 0.8406 - mae: 0.5474 - val_loss: 0.8451 - val_mae: 0.5471\n",
      "Epoch 32/50\n",
      "766/766 [==============================] - 1s 783us/step - loss: 0.8403 - mae: 0.5472 - val_loss: 0.8415 - val_mae: 0.5447\n",
      "Epoch 33/50\n",
      "766/766 [==============================] - 1s 761us/step - loss: 0.8388 - mae: 0.5466 - val_loss: 0.8424 - val_mae: 0.5450\n",
      "Epoch 34/50\n",
      "766/766 [==============================] - 1s 709us/step - loss: 0.8399 - mae: 0.5471 - val_loss: 0.8410 - val_mae: 0.5422\n",
      "Epoch 35/50\n",
      "766/766 [==============================] - 1s 743us/step - loss: 0.8385 - mae: 0.5456 - val_loss: 0.8395 - val_mae: 0.5433\n",
      "Epoch 36/50\n",
      "766/766 [==============================] - 1s 822us/step - loss: 0.8379 - mae: 0.5456 - val_loss: 0.8404 - val_mae: 0.5432\n",
      "Epoch 37/50\n",
      "766/766 [==============================] - 1s 714us/step - loss: 0.8374 - mae: 0.5453 - val_loss: 0.8405 - val_mae: 0.5436\n",
      "Epoch 38/50\n",
      "766/766 [==============================] - 1s 695us/step - loss: 0.8380 - mae: 0.5455 - val_loss: 0.8405 - val_mae: 0.5463\n",
      "Epoch 39/50\n",
      "766/766 [==============================] - 1s 761us/step - loss: 0.8379 - mae: 0.5454 - val_loss: 0.8361 - val_mae: 0.5400\n",
      "Epoch 40/50\n",
      "766/766 [==============================] - 1s 700us/step - loss: 0.8373 - mae: 0.5448 - val_loss: 0.8456 - val_mae: 0.5504\n",
      "Epoch 41/50\n",
      "766/766 [==============================] - 1s 702us/step - loss: 0.8361 - mae: 0.5442 - val_loss: 0.8430 - val_mae: 0.5454\n",
      "Epoch 42/50\n",
      "766/766 [==============================] - 1s 704us/step - loss: 0.8357 - mae: 0.5442 - val_loss: 0.8379 - val_mae: 0.5398\n",
      "Epoch 43/50\n",
      "766/766 [==============================] - 1s 758us/step - loss: 0.8353 - mae: 0.5435 - val_loss: 0.8355 - val_mae: 0.5388\n",
      "Epoch 44/50\n",
      "766/766 [==============================] - 1s 702us/step - loss: 0.8354 - mae: 0.5437 - val_loss: 0.8404 - val_mae: 0.5437\n",
      "Epoch 45/50\n",
      "766/766 [==============================] - 1s 700us/step - loss: 0.8342 - mae: 0.5427 - val_loss: 0.8415 - val_mae: 0.5427\n",
      "Epoch 46/50\n",
      "766/766 [==============================] - 1s 794us/step - loss: 0.8351 - mae: 0.5433 - val_loss: 0.8360 - val_mae: 0.5411\n",
      "Epoch 47/50\n",
      "766/766 [==============================] - 1s 711us/step - loss: 0.8341 - mae: 0.5427 - val_loss: 0.8348 - val_mae: 0.5402\n",
      "Epoch 48/50\n",
      "766/766 [==============================] - 1s 881us/step - loss: 0.8339 - mae: 0.5424 - val_loss: 0.8340 - val_mae: 0.5386\n",
      "Epoch 49/50\n",
      "766/766 [==============================] - 1s 715us/step - loss: 0.8334 - mae: 0.5421 - val_loss: 0.8426 - val_mae: 0.5448\n",
      "Epoch 50/50\n",
      "766/766 [==============================] - 1s 714us/step - loss: 0.8338 - mae: 0.5426 - val_loss: 0.8339 - val_mae: 0.5384\n"
     ]
    }
   ],
   "source": [
    "# Create and train the model\n",
    "predictor = AnomalyPredictor()\n",
    "predictor.create_model()\n",
    "history = predictor.train(X, y, epochs=50, batch_size=64)"
   ]
  },
  {
   "cell_type": "code",
   "execution_count": 10,
   "metadata": {},
   "outputs": [
    {
     "data": {
      "text/html": [
       "<div>\n",
       "<style scoped>\n",
       "    .dataframe tbody tr th:only-of-type {\n",
       "        vertical-align: middle;\n",
       "    }\n",
       "\n",
       "    .dataframe tbody tr th {\n",
       "        vertical-align: top;\n",
       "    }\n",
       "\n",
       "    .dataframe thead th {\n",
       "        text-align: right;\n",
       "    }\n",
       "</style>\n",
       "<table border=\"1\" class=\"dataframe\">\n",
       "  <thead>\n",
       "    <tr style=\"text-align: right;\">\n",
       "      <th></th>\n",
       "      <th>latitude</th>\n",
       "      <th>longitude</th>\n",
       "    </tr>\n",
       "  </thead>\n",
       "  <tbody>\n",
       "    <tr>\n",
       "      <th>6928984</th>\n",
       "      <td>-70.22</td>\n",
       "      <td>148.62</td>\n",
       "    </tr>\n",
       "    <tr>\n",
       "      <th>4079028</th>\n",
       "      <td>-11.75</td>\n",
       "      <td>96.98</td>\n",
       "    </tr>\n",
       "    <tr>\n",
       "      <th>2297206</th>\n",
       "      <td>25.52</td>\n",
       "      <td>211.68</td>\n",
       "    </tr>\n",
       "    <tr>\n",
       "      <th>4311478</th>\n",
       "      <td>-16.42</td>\n",
       "      <td>58.18</td>\n",
       "    </tr>\n",
       "    <tr>\n",
       "      <th>2026538</th>\n",
       "      <td>31.25</td>\n",
       "      <td>30.28</td>\n",
       "    </tr>\n",
       "  </tbody>\n",
       "</table>\n",
       "</div>"
      ],
      "text/plain": [
       "         latitude  longitude\n",
       "6928984    -70.22     148.62\n",
       "4079028    -11.75      96.98\n",
       "2297206     25.52     211.68\n",
       "4311478    -16.42      58.18\n",
       "2026538     31.25      30.28"
      ]
     },
     "execution_count": 10,
     "metadata": {},
     "output_type": "execute_result"
    }
   ],
   "source": [
    "X_test.head()"
   ]
  },
  {
   "cell_type": "code",
   "execution_count": 11,
   "metadata": {},
   "outputs": [],
   "source": [
    "X_test_scaled = StandardScaler().fit_transform(X_test)"
   ]
  },
  {
   "cell_type": "code",
   "execution_count": 12,
   "metadata": {},
   "outputs": [
    {
     "name": "stdout",
     "output_type": "stream",
     "text": [
      "438/438 [==============================] - 0s 342us/step\n"
     ]
    }
   ],
   "source": [
    "# Make predictions using the subset\n",
    "y_pred = predictor.predict(X_test)"
   ]
  },
  {
   "cell_type": "code",
   "execution_count": 13,
   "metadata": {},
   "outputs": [
    {
     "name": "stdout",
     "output_type": "stream",
     "text": [
      "Magnetic Anomaly - Mean Absolute Error (MAE): 0.5439827789427583\n",
      "Magnetic Anomaly - Mean Squared Error (MSE): 0.8672824605180846\n",
      "Magnetic Anomaly - Root Mean Squared Error (RMSE): 0.931280011875099\n"
     ]
    }
   ],
   "source": [
    "# Calculate Mean Absolute Error (MAE) for Magnetic_Anomaly_mGal\n",
    "mae_mag = mean_absolute_error(y_test['Magnetic_Anomaly_mGal'], y_pred[:, 1])\n",
    "\n",
    "# Calculate Mean Squared Error (MSE) for Magnetic_Anomaly_mGal\n",
    "mse_mag = mean_squared_error(y_test['Magnetic_Anomaly_mGal'], y_pred[:, 1])\n",
    "\n",
    "# Calculate Root Mean Squared Error (RMSE) for Magnetic_Anomaly_mGal\n",
    "rmse_mag = np.sqrt(mse_mag)\n",
    "\n",
    "print(f'Magnetic Anomaly - Mean Absolute Error (MAE): {mae_mag}')\n",
    "print(f'Magnetic Anomaly - Mean Squared Error (MSE): {mse_mag}')\n",
    "print(f'Magnetic Anomaly - Root Mean Squared Error (RMSE): {rmse_mag}')"
   ]
  },
  {
   "cell_type": "code",
   "execution_count": 14,
   "metadata": {},
   "outputs": [
    {
     "name": "stdout",
     "output_type": "stream",
     "text": [
      "Gravity Anomaly - Mean Absolute Error (MAE): 11.637700167705127\n",
      "Gravity Anomaly - Mean Squared Error (MSE): 392.03091979533366\n",
      "Gravity Anomaly - Root Mean Squared Error (RMSE): 19.799770700574634\n"
     ]
    }
   ],
   "source": [
    "# Calculate Mean Absolute Error (MAE) for grav_anom\n",
    "mae_grav = mean_absolute_error(y_test['grav_anom'], y_pred[:, 0])\n",
    "\n",
    "# Calculate Mean Squared Error (MSE) for grav_anom\n",
    "mse_grav = mean_squared_error(y_test['grav_anom'], y_pred[:, 0])\n",
    "\n",
    "# Calculate Root Mean Squared Error (RMSE) for grav_anom\n",
    "rmse_grav = np.sqrt(mse_grav)\n",
    "\n",
    "print(f'Gravity Anomaly - Mean Absolute Error (MAE): {mae_grav}')\n",
    "print(f'Gravity Anomaly - Mean Squared Error (MSE): {mse_grav}')\n",
    "print(f'Gravity Anomaly - Root Mean Squared Error (RMSE): {rmse_grav}')"
   ]
  },
  {
   "cell_type": "code",
   "execution_count": 15,
   "metadata": {},
   "outputs": [
    {
     "data": {
      "image/png": "[encoded data removed]",
      "text/plain": [
       "<Figure size 800x600 with 1 Axes>"
      ]
     },
     "metadata": {},
     "output_type": "display_data"
    }
   ],
   "source": [
    "# Calculate residuals for Magnetic_Anomaly_mGal\n",
    "residuals_mag = y_test['Magnetic_Anomaly_mGal'] - y_pred[:, 1]\n",
    "\n",
    "# Plot residuals against predicted values for Magnetic_Anomaly_mGal\n",
    "plt.figure(figsize=(8, 6))\n",
    "plt.scatter(y_pred[:, 0], residuals_mag)\n",
    "plt.axhline(y=0, color='r', linestyle='-', linewidth=1)\n",
    "plt.xlabel('Predicted Magnetic Anomaly (mGal)')\n",
    "plt.ylabel('Residuals')\n",
    "plt.title('Residual Plot for Magnetic Anomaly')\n",
    "plt.grid(True)\n",
    "plt.show()"
   ]
  },
  {
   "cell_type": "code",
   "execution_count": null,
   "metadata": {},
   "outputs": [],
   "source": []
  },
  {
   "cell_type": "code",
   "execution_count": 16,
   "metadata": {},
   "outputs": [
    {
     "data": {
      "image/png": "[encoded data removed]",
      "text/plain": [
       "<Figure size 800x600 with 1 Axes>"
      ]
     },
     "metadata": {},
     "output_type": "display_data"
    }
   ],
   "source": [
    "# Calculate residuals for grav_anom\n",
    "residuals_grav = y_test['grav_anom'] - y_pred[:, 0]\n",
    "\n",
    "# Plot residuals against predicted values for grav_anom\n",
    "plt.figure(figsize=(8, 6))\n",
    "plt.scatter(y_pred[:, 1], residuals_grav)\n",
    "plt.axhline(y=0, color='r', linestyle='-', linewidth=1)\n",
    "plt.xlabel('Predicted Gravity Anomaly')\n",
    "plt.ylabel('Residuals')\n",
    "plt.title('Residual Plot for Gravity Anomaly')\n",
    "plt.grid(True)\n",
    "plt.show()"
   ]
  },
  {
   "cell_type": "code",
   "execution_count": null,
   "metadata": {},
   "outputs": [],
   "source": []
  },
  {
   "cell_type": "code",
   "execution_count": null,
   "metadata": {},
   "outputs": [],
   "source": []
  },
  {
   "cell_type": "markdown",
   "metadata": {},
   "source": [
    "### Evaluate a model, and comparison with real data"
   ]
  },
  {
   "cell_type": "code",
   "execution_count": 17,
   "metadata": {},
   "outputs": [],
   "source": [
    "# Create a smaller sample\n",
    "df_test = df.sample(n=1000, random_state=42)"
   ]
  },
  {
   "cell_type": "code",
   "execution_count": 18,
   "metadata": {},
   "outputs": [],
   "source": [
    "X_test_2 = df_test[['latitude', 'longitude']]"
   ]
  },
  {
   "cell_type": "code",
   "execution_count": 19,
   "metadata": {},
   "outputs": [
    {
     "data": {
      "text/html": [
       "<div>\n",
       "<style scoped>\n",
       "    .dataframe tbody tr th:only-of-type {\n",
       "        vertical-align: middle;\n",
       "    }\n",
       "\n",
       "    .dataframe tbody tr th {\n",
       "        vertical-align: top;\n",
       "    }\n",
       "\n",
       "    .dataframe thead th {\n",
       "        text-align: right;\n",
       "    }\n",
       "</style>\n",
       "<table border=\"1\" class=\"dataframe\">\n",
       "  <thead>\n",
       "    <tr style=\"text-align: right;\">\n",
       "      <th></th>\n",
       "      <th>latitude</th>\n",
       "      <th>longitude</th>\n",
       "      <th>grav_anom</th>\n",
       "      <th>Magnetic_Anomaly_mGal</th>\n",
       "    </tr>\n",
       "  </thead>\n",
       "  <tbody>\n",
       "    <tr>\n",
       "      <th>4308682</th>\n",
       "      <td>-16.38</td>\n",
       "      <td>238.68</td>\n",
       "      <td>-0.2</td>\n",
       "      <td>-0.175178</td>\n",
       "    </tr>\n",
       "    <tr>\n",
       "      <th>6117001</th>\n",
       "      <td>-53.62</td>\n",
       "      <td>189.28</td>\n",
       "      <td>-2.9</td>\n",
       "      <td>-0.383910</td>\n",
       "    </tr>\n",
       "    <tr>\n",
       "      <th>1452739</th>\n",
       "      <td>43.15</td>\n",
       "      <td>111.78</td>\n",
       "      <td>-13.7</td>\n",
       "      <td>0.275191</td>\n",
       "    </tr>\n",
       "    <tr>\n",
       "      <th>1101834</th>\n",
       "      <td>50.38</td>\n",
       "      <td>95.98</td>\n",
       "      <td>-23.2</td>\n",
       "      <td>-0.092593</td>\n",
       "    </tr>\n",
       "    <tr>\n",
       "      <th>2246973</th>\n",
       "      <td>26.75</td>\n",
       "      <td>189.88</td>\n",
       "      <td>-16.3</td>\n",
       "      <td>0.955683</td>\n",
       "    </tr>\n",
       "  </tbody>\n",
       "</table>\n",
       "</div>"
      ],
      "text/plain": [
       "         latitude  longitude  grav_anom  Magnetic_Anomaly_mGal\n",
       "4308682    -16.38     238.68       -0.2              -0.175178\n",
       "6117001    -53.62     189.28       -2.9              -0.383910\n",
       "1452739     43.15     111.78      -13.7               0.275191\n",
       "1101834     50.38      95.98      -23.2              -0.092593\n",
       "2246973     26.75     189.88      -16.3               0.955683"
      ]
     },
     "execution_count": 19,
     "metadata": {},
     "output_type": "execute_result"
    }
   ],
   "source": [
    "df_test.head()"
   ]
  },
  {
   "cell_type": "code",
   "execution_count": 20,
   "metadata": {},
   "outputs": [
    {
     "name": "stdout",
     "output_type": "stream",
     "text": [
      "32/32 [==============================] - 0s 521us/step\n"
     ]
    }
   ],
   "source": [
    "# Make predictions using the subset\n",
    "y_pred_2 = predictor.predict(X_test_2)"
   ]
  },
  {
   "cell_type": "code",
   "execution_count": 21,
   "metadata": {},
   "outputs": [],
   "source": [
    "# Add y_pred[:, 0] as 'grav_anom_pred' and y_pred[:, 1] as 'magnetic_anom_pred' to df_test\n",
    "df_test['grav_anom_pred'] = y_pred_2[:, 0]\n",
    "df_test['magnetic_anom_pred'] = y_pred_2[:, 1]"
   ]
  },
  {
   "cell_type": "code",
   "execution_count": 22,
   "metadata": {},
   "outputs": [
    {
     "data": {
      "text/html": [
       "<div>\n",
       "<style scoped>\n",
       "    .dataframe tbody tr th:only-of-type {\n",
       "        vertical-align: middle;\n",
       "    }\n",
       "\n",
       "    .dataframe tbody tr th {\n",
       "        vertical-align: top;\n",
       "    }\n",
       "\n",
       "    .dataframe thead th {\n",
       "        text-align: right;\n",
       "    }\n",
       "</style>\n",
       "<table border=\"1\" class=\"dataframe\">\n",
       "  <thead>\n",
       "    <tr style=\"text-align: right;\">\n",
       "      <th></th>\n",
       "      <th>latitude</th>\n",
       "      <th>longitude</th>\n",
       "      <th>grav_anom</th>\n",
       "      <th>Magnetic_Anomaly_mGal</th>\n",
       "      <th>grav_anom_pred</th>\n",
       "      <th>magnetic_anom_pred</th>\n",
       "    </tr>\n",
       "  </thead>\n",
       "  <tbody>\n",
       "    <tr>\n",
       "      <th>4308682</th>\n",
       "      <td>-16.38</td>\n",
       "      <td>238.68</td>\n",
       "      <td>-0.2</td>\n",
       "      <td>-0.175178</td>\n",
       "      <td>-0.258438</td>\n",
       "      <td>-0.021177</td>\n",
       "    </tr>\n",
       "    <tr>\n",
       "      <th>6117001</th>\n",
       "      <td>-53.62</td>\n",
       "      <td>189.28</td>\n",
       "      <td>-2.9</td>\n",
       "      <td>-0.383910</td>\n",
       "      <td>-22.747940</td>\n",
       "      <td>0.013986</td>\n",
       "    </tr>\n",
       "    <tr>\n",
       "      <th>1452739</th>\n",
       "      <td>43.15</td>\n",
       "      <td>111.78</td>\n",
       "      <td>-13.7</td>\n",
       "      <td>0.275191</td>\n",
       "      <td>-11.528503</td>\n",
       "      <td>0.040861</td>\n",
       "    </tr>\n",
       "  </tbody>\n",
       "</table>\n",
       "</div>"
      ],
      "text/plain": [
       "         latitude  longitude  grav_anom  Magnetic_Anomaly_mGal  \\\n",
       "4308682    -16.38     238.68       -0.2              -0.175178   \n",
       "6117001    -53.62     189.28       -2.9              -0.383910   \n",
       "1452739     43.15     111.78      -13.7               0.275191   \n",
       "\n",
       "         grav_anom_pred  magnetic_anom_pred  \n",
       "4308682       -0.258438           -0.021177  \n",
       "6117001      -22.747940            0.013986  \n",
       "1452739      -11.528503            0.040861  "
      ]
     },
     "execution_count": 22,
     "metadata": {},
     "output_type": "execute_result"
    }
   ],
   "source": [
    "df_test.head(3)"
   ]
  },
  {
   "cell_type": "code",
   "execution_count": 23,
   "metadata": {},
   "outputs": [
    {
     "data": {
      "image/png": "[encoded data removed]",
      "text/plain": [
       "<Figure size 500x400 with 1 Axes>"
      ]
     },
     "metadata": {},
     "output_type": "display_data"
    }
   ],
   "source": [
    "# Scatter plot of grav_anom vs grav_anom_pred\n",
    "plt.figure(figsize=(5, 4))\n",
    "plt.scatter(df_test['grav_anom'], df_test['grav_anom_pred'], color='blue', alpha=0.6)\n",
    "plt.title('Actual vs Predicted Gravity Anomaly')\n",
    "plt.xlabel('Actual Gravity Anomaly')\n",
    "plt.ylabel('Predicted Gravity Anomaly')\n",
    "plt.grid(True)\n",
    "plt.show()"
   ]
  },
  {
   "cell_type": "code",
   "execution_count": 24,
   "metadata": {},
   "outputs": [
    {
     "data": {
      "image/png": "[encoded data removed]",
      "text/plain": [
       "<Figure size 400x300 with 1 Axes>"
      ]
     },
     "metadata": {},
     "output_type": "display_data"
    }
   ],
   "source": [
    "# Scatter plot of grav_anom vs grav_anom_pred\n",
    "plt.figure(figsize=(4, 3))\n",
    "plt.scatter(df_test['Magnetic_Anomaly_mGal'], df_test['magnetic_anom_pred'], color='green', alpha=0.6)\n",
    "plt.title('Actual vs Predicted Magnetic Anomaly')\n",
    "plt.xlabel('Actual Magnetic Anomaly')\n",
    "plt.ylabel('Predicted Magnetic Anomaly')\n",
    "plt.grid(True)\n",
    "plt.show()"
   ]
  },
  {
   "cell_type": "code",
   "execution_count": null,
   "metadata": {},
   "outputs": [],
   "source": []
  },
  {
   "cell_type": "code",
   "execution_count": null,
   "metadata": {},
   "outputs": [],
   "source": []
  },
  {
   "cell_type": "code",
   "execution_count": null,
   "metadata": {},
   "outputs": [],
   "source": []
  },
  {
   "cell_type": "markdown",
   "metadata": {},
   "source": [
    "### creating class multidimensionalVAP"
   ]
  },
  {
   "cell_type": "code",
   "execution_count": 25,
   "metadata": {},
   "outputs": [],
   "source": [
    "class MultiDimensionalVAP:\n",
    "    def __init__(self, dataframe):\n",
    "        self.data = dataframe\n",
    "        self.nbrs = NearestNeighbors(n_neighbors=3, algorithm='ball_tree').fit(self.data[['latitude', 'longitude']])\n",
    "    \n",
    "    def add_vap(self, latitude, longitude, grav_anom, Magnetic_Anomaly_mGal):\n",
    "        new_vap = pd.DataFrame({\n",
    "            'latitude': [latitude],\n",
    "            'longitude': [longitude],\n",
    "            'grav_anom': [grav_anom],\n",
    "            #'elevation': [elevation],\n",
    "            'Magnetic_Anomaly_mGal': [Magnetic_Anomaly_mGal]\n",
    "            \n",
    "          #  'pressure': [pressure]\n",
    "        })\n",
    "        self.data = pd.concat([self.data, new_vap], ignore_index=True)\n",
    "        self.nbrs.fit(self.data[['latitude', 'longitude']])\n",
    "    \n",
    "    def find_nearest_vaps(self, latitude, longitude, num_vaps=3):\n",
    "        distances, indices = self.nbrs.kneighbors([[latitude, longitude]], n_neighbors=num_vaps)\n",
    "        return self.data.iloc[indices[0]]\n",
    "    \n",
    "    def interpolate_position(self, vaps, **kwargs):\n",
    "        \"\"\"\n",
    "        Interpolates the position based on given readings.\n",
    "        \n",
    "        Parameters:\n",
    "        vaps (pd.DataFrame): DataFrame containing VAPs data.\n",
    "        **kwargs: Arbitrary keyword arguments containing latitude, longitude,\n",
    "                  magnetic_reading, gravity_reading.\n",
    "        \n",
    "        Returns:\n",
    "        dict: A dictionary containing the interpolated position and readings.\n",
    "        \"\"\"\n",
    "        # Retrieve values from kwargs\n",
    "        latitude = kwargs.get('latitude', None)\n",
    "        longitude = kwargs.get('longitude', None)\n",
    "        gravity_reading = kwargs.get('grav_anom', None)\n",
    "        magnetic_reading = kwargs.get('Magnetic_Anomaly_mGal', None)\n",
    "        \n",
    "        \n",
    "        if latitude is None or longitude is None:\n",
    "            raise ValueError(\"Latitude and longitude must be provided.\")\n",
    "        \n",
    "        # Calculate weights based on inverse distance\n",
    "        distances = vaps.apply(lambda row: euclidean((row['latitude'], row['longitude']), (latitude, longitude)), axis=1)\n",
    "        weights = 1 / distances\n",
    "        weights /= weights.sum()  # Normalize weights to sum to 1\n",
    "        \n",
    "        # Perform weighted average interpolation for latitude and longitude\n",
    "        interpolated_latitude = np.sum(weights * vaps['latitude'])\n",
    "        interpolated_longitude = np.sum(weights * vaps['longitude'])\n",
    "        \n",
    "        # For elevation, you can implement interpolation logic here if elevation data is available\n",
    "        \n",
    "        # Return interpolated values along with provided readings\n",
    "        return {\n",
    "            'latitude': interpolated_latitude,\n",
    "            'longitude': interpolated_longitude,\n",
    "            'gravity_anomaly': gravity_reading,\n",
    "            'magnetic_field': magnetic_reading\n",
    "        }"
   ]
  },
  {
   "cell_type": "code",
   "execution_count": 26,
   "metadata": {},
   "outputs": [],
   "source": [
    "class EnhancedMultiDimensionalVAP(MultiDimensionalVAP):\n",
    "    def __init__(self, db_path):\n",
    "        super().__init__(db_path)\n",
    "        self.anomaly_predictor = AnomalyPredictor()\n",
    "        self.train_predictor()\n",
    "\n",
    "    def train_predictor(self):\n",
    "        # Fetch all VAP data\n",
    "        #self.cursor.execute('SELECT latitude, longitude, magnetic_anomaly, gravity_anomaly FROM multi_vaps')\n",
    "        data = self.data[['latitude', 'longitude', 'grav_anom','Magnetic_Anomaly_mGal']]\n",
    "        X = data[['latitude', 'longitude']].values\n",
    "        y = data[['grav_anom','Magnetic_Anomaly_mGal']].values\n",
    "        \n",
    "        self.anomaly_predictor.create_model()\n",
    "        self.anomaly_predictor.train(X, y)\n",
    "\n",
    "    def predict_anomalies(self, lat, lon):\n",
    "        X = np.array([[lat, lon]])\n",
    "        y_pred = self.anomaly_predictor.predict(X)\n",
    "        return y_pred[0]\n",
    "        \n",
    "    def interpolate_position(self, vaps, latitude=None, longitude=None, gravity_reading=None, magnetic_reading=None):\n",
    "        if latitude is None or longitude is None:\n",
    "            raise ValueError(\"Latitude and longitude must be provided.\")\n",
    "\n",
    "        if len(vaps) < 3:  # If we have very sparse data\n",
    "            # Predict anomalies for the current location\n",
    "            predicted_anomalies = self.predict_anomalies(latitude, longitude)\n",
    "\n",
    "            # Create a DataFrame with the new row\n",
    "            new_row = pd.DataFrame({\n",
    "                'latitude': [latitude],\n",
    "                'longitude': [longitude],\n",
    "                'grav_anom': [predicted_anomalies[0]],\n",
    "                'Magnetic_Anomaly_mGal': [predicted_anomalies[1]],\n",
    "            })\n",
    "\n",
    "            # Combine the original DataFrame with the new row\n",
    "            combined_vaps = pd.concat([vaps, new_row], ignore_index=True)\n",
    "\n",
    "            return super().interpolate_position(combined_vaps, gravity_reading, magnetic_reading)\n",
    "        else:\n",
    "            # Calculate weights based on inverse distance\n",
    "            distances = vaps.apply(lambda row: euclidean((row['latitude'], row['longitude']), (latitude, longitude)), axis=1)\n",
    "            weights = 1 / distances\n",
    "            weights /= weights.sum()  # Normalize weights to sum to 1\n",
    "            \n",
    "            # Perform weighted average interpolation for latitude and longitude\n",
    "            interpolated_latitude = np.sum(weights * vaps['latitude'])\n",
    "            interpolated_longitude = np.sum(weights * vaps['longitude'])\n",
    "            \n",
    "            # For gravity and magnetic fields, take the average (or apply custom logic as needed)\n",
    "            interpolated_gravity_anomaly = np.mean(vaps['grav_anom'])\n",
    "            interpolated_magnetic_field = np.mean(vaps['Magnetic_Anomaly_mGal'])\n",
    "\n",
    "            # Return interpolated values along with provided readings\n",
    "            return {\n",
    "                'latitude': interpolated_latitude,\n",
    "                'longitude': interpolated_longitude,\n",
    "                'gravity_anomaly': interpolated_gravity_anomaly,\n",
    "                'magnetic_field': interpolated_magnetic_field,\n",
    "            }\n",
    "        \n",
    "    def calculate_confidence(self, vaps, gravity_reading, magnetic_reading):\n",
    "        \"\"\"\n",
    "        Calculate the confidence of the interpolation based on the VAPs data and the readings.\n",
    "\n",
    "        Parameters:\n",
    "        vaps (pd.DataFrame): DataFrame containing VAPs data.\n",
    "        magnetic_reading (float): Magnetic field reading.\n",
    "        gravity_reading (float): Gravity anomaly reading.\n",
    "\n",
    "        Returns:\n",
    "        float: Confidence value (0 to 1).\n",
    "        \"\"\"\n",
    "        if len(vaps) < 2:\n",
    "            return 0.5  # If less than 2 VAPs, return a low confidence by default\n",
    "\n",
    "        # Calculate distance-based confidence\n",
    "        lat_mean = vaps['latitude'].mean()\n",
    "        lon_mean = vaps['longitude'].mean()\n",
    "        distances = np.sqrt((vaps['latitude'] - lat_mean)**2 + (vaps['longitude'] - lon_mean)**2)\n",
    "        distance_confidence = 1 - np.mean(distances)  # Closer VAPs give higher confidence\n",
    "\n",
    "        # Calculate reading variance-based confidence\n",
    "        magnetic_variance = vaps['Magnetic_Anomaly_mGal'].var()\n",
    "        gravity_variance = vaps['grav_anom'].var()\n",
    "        reading_variance = (magnetic_variance + gravity_variance) / 3\n",
    "        reading_confidence = 1 / (1 + reading_variance)  # Lower variance gives higher confidence\n",
    "\n",
    "        # Combine both confidences\n",
    "        combined_confidence = (distance_confidence + reading_confidence) / 2\n",
    "\n",
    "        # Ensure confidence is between 0 and 1\n",
    "        return max(0, min(1, combined_confidence))\n"
   ]
  },
  {
   "cell_type": "code",
   "execution_count": 27,
   "metadata": {},
   "outputs": [
    {
     "data": {
      "text/html": [
       "<div>\n",
       "<style scoped>\n",
       "    .dataframe tbody tr th:only-of-type {\n",
       "        vertical-align: middle;\n",
       "    }\n",
       "\n",
       "    .dataframe tbody tr th {\n",
       "        vertical-align: top;\n",
       "    }\n",
       "\n",
       "    .dataframe thead th {\n",
       "        text-align: right;\n",
       "    }\n",
       "</style>\n",
       "<table border=\"1\" class=\"dataframe\">\n",
       "  <thead>\n",
       "    <tr style=\"text-align: right;\">\n",
       "      <th></th>\n",
       "      <th>latitude</th>\n",
       "      <th>longitude</th>\n",
       "    </tr>\n",
       "  </thead>\n",
       "  <tbody>\n",
       "    <tr>\n",
       "      <th>6928984</th>\n",
       "      <td>-70.22</td>\n",
       "      <td>148.62</td>\n",
       "    </tr>\n",
       "    <tr>\n",
       "      <th>4079028</th>\n",
       "      <td>-11.75</td>\n",
       "      <td>96.98</td>\n",
       "    </tr>\n",
       "    <tr>\n",
       "      <th>2297206</th>\n",
       "      <td>25.52</td>\n",
       "      <td>211.68</td>\n",
       "    </tr>\n",
       "    <tr>\n",
       "      <th>4311478</th>\n",
       "      <td>-16.42</td>\n",
       "      <td>58.18</td>\n",
       "    </tr>\n",
       "    <tr>\n",
       "      <th>2026538</th>\n",
       "      <td>31.25</td>\n",
       "      <td>30.28</td>\n",
       "    </tr>\n",
       "    <tr>\n",
       "      <th>...</th>\n",
       "      <td>...</td>\n",
       "      <td>...</td>\n",
       "    </tr>\n",
       "    <tr>\n",
       "      <th>6993628</th>\n",
       "      <td>-71.55</td>\n",
       "      <td>238.98</td>\n",
       "    </tr>\n",
       "    <tr>\n",
       "      <th>3309499</th>\n",
       "      <td>4.45</td>\n",
       "      <td>349.38</td>\n",
       "    </tr>\n",
       "    <tr>\n",
       "      <th>2043444</th>\n",
       "      <td>31.15</td>\n",
       "      <td>61.12</td>\n",
       "    </tr>\n",
       "    <tr>\n",
       "      <th>1036156</th>\n",
       "      <td>51.85</td>\n",
       "      <td>285.08</td>\n",
       "    </tr>\n",
       "    <tr>\n",
       "      <th>1240087</th>\n",
       "      <td>47.58</td>\n",
       "      <td>244.02</td>\n",
       "    </tr>\n",
       "  </tbody>\n",
       "</table>\n",
       "<p>14000 rows × 2 columns</p>\n",
       "</div>"
      ],
      "text/plain": [
       "         latitude  longitude\n",
       "6928984    -70.22     148.62\n",
       "4079028    -11.75      96.98\n",
       "2297206     25.52     211.68\n",
       "4311478    -16.42      58.18\n",
       "2026538     31.25      30.28\n",
       "...           ...        ...\n",
       "6993628    -71.55     238.98\n",
       "3309499      4.45     349.38\n",
       "2043444     31.15      61.12\n",
       "1036156     51.85     285.08\n",
       "1240087     47.58     244.02\n",
       "\n",
       "[14000 rows x 2 columns]"
      ]
     },
     "execution_count": 27,
     "metadata": {},
     "output_type": "execute_result"
    }
   ],
   "source": [
    "X_test"
   ]
  },
  {
   "cell_type": "code",
   "execution_count": 28,
   "metadata": {},
   "outputs": [
    {
     "name": "stdout",
     "output_type": "stream",
     "text": [
      "Epoch 1/50\n",
      "383/383 [==============================] - 1s 950us/step - loss: 0.9736 - mae: 0.6326 - val_loss: 0.9602 - val_mae: 0.6223\n",
      "Epoch 2/50\n",
      "383/383 [==============================] - 0s 745us/step - loss: 0.9434 - mae: 0.6170 - val_loss: 0.9335 - val_mae: 0.6078\n",
      "Epoch 3/50\n",
      "383/383 [==============================] - 0s 861us/step - loss: 0.9242 - mae: 0.6061 - val_loss: 0.9204 - val_mae: 0.6014\n",
      "Epoch 4/50\n",
      "383/383 [==============================] - 0s 787us/step - loss: 0.9118 - mae: 0.5986 - val_loss: 0.9087 - val_mae: 0.5926\n",
      "Epoch 5/50\n",
      "383/383 [==============================] - 0s 958us/step - loss: 0.9010 - mae: 0.5917 - val_loss: 0.9031 - val_mae: 0.5908\n",
      "Epoch 6/50\n",
      "383/383 [==============================] - 0s 767us/step - loss: 0.8924 - mae: 0.5857 - val_loss: 0.8892 - val_mae: 0.5794\n",
      "Epoch 7/50\n",
      "383/383 [==============================] - 0s 786us/step - loss: 0.8829 - mae: 0.5787 - val_loss: 0.8788 - val_mae: 0.5722\n",
      "Epoch 8/50\n",
      "383/383 [==============================] - 0s 818us/step - loss: 0.8763 - mae: 0.5738 - val_loss: 0.8745 - val_mae: 0.5683\n",
      "Epoch 9/50\n",
      "383/383 [==============================] - 0s 890us/step - loss: 0.8704 - mae: 0.5690 - val_loss: 0.8704 - val_mae: 0.5669\n",
      "Epoch 10/50\n",
      "383/383 [==============================] - 0s 838us/step - loss: 0.8665 - mae: 0.5665 - val_loss: 0.8650 - val_mae: 0.5649\n",
      "Epoch 11/50\n",
      "383/383 [==============================] - 0s 752us/step - loss: 0.8644 - mae: 0.5647 - val_loss: 0.8676 - val_mae: 0.5651\n",
      "Epoch 12/50\n",
      "383/383 [==============================] - 0s 749us/step - loss: 0.8615 - mae: 0.5633 - val_loss: 0.8632 - val_mae: 0.5603\n",
      "Epoch 13/50\n",
      "383/383 [==============================] - 0s 753us/step - loss: 0.8587 - mae: 0.5610 - val_loss: 0.8604 - val_mae: 0.5588\n",
      "Epoch 14/50\n",
      "383/383 [==============================] - 0s 858us/step - loss: 0.8576 - mae: 0.5598 - val_loss: 0.8557 - val_mae: 0.5555\n",
      "Epoch 15/50\n",
      "383/383 [==============================] - 0s 747us/step - loss: 0.8553 - mae: 0.5583 - val_loss: 0.8572 - val_mae: 0.5553\n",
      "Epoch 16/50\n",
      "383/383 [==============================] - 0s 741us/step - loss: 0.8550 - mae: 0.5584 - val_loss: 0.8529 - val_mae: 0.5542\n",
      "Epoch 17/50\n",
      "383/383 [==============================] - 0s 746us/step - loss: 0.8527 - mae: 0.5562 - val_loss: 0.8521 - val_mae: 0.5536\n",
      "Epoch 18/50\n",
      "383/383 [==============================] - 0s 917us/step - loss: 0.8514 - mae: 0.5557 - val_loss: 0.8541 - val_mae: 0.5543\n",
      "Epoch 19/50\n",
      "383/383 [==============================] - 0s 885us/step - loss: 0.8501 - mae: 0.5546 - val_loss: 0.8500 - val_mae: 0.5525\n",
      "Epoch 20/50\n",
      "383/383 [==============================] - 0s 785us/step - loss: 0.8494 - mae: 0.5536 - val_loss: 0.8503 - val_mae: 0.5523\n",
      "Epoch 21/50\n",
      "383/383 [==============================] - 0s 898us/step - loss: 0.8487 - mae: 0.5537 - val_loss: 0.8508 - val_mae: 0.5517\n",
      "Epoch 22/50\n",
      "383/383 [==============================] - 0s 854us/step - loss: 0.8475 - mae: 0.5525 - val_loss: 0.8483 - val_mae: 0.5488\n",
      "Epoch 23/50\n",
      "383/383 [==============================] - 0s 964us/step - loss: 0.8463 - mae: 0.5517 - val_loss: 0.8516 - val_mae: 0.5548\n",
      "Epoch 24/50\n",
      "383/383 [==============================] - 0s 959us/step - loss: 0.8457 - mae: 0.5510 - val_loss: 0.8473 - val_mae: 0.5499\n",
      "Epoch 25/50\n",
      "383/383 [==============================] - 0s 970us/step - loss: 0.8451 - mae: 0.5509 - val_loss: 0.8478 - val_mae: 0.5492\n",
      "Epoch 26/50\n",
      "383/383 [==============================] - 0s 895us/step - loss: 0.8449 - mae: 0.5507 - val_loss: 0.8427 - val_mae: 0.5460\n",
      "Epoch 27/50\n",
      "383/383 [==============================] - 0s 976us/step - loss: 0.8436 - mae: 0.5500 - val_loss: 0.8517 - val_mae: 0.5514\n",
      "Epoch 28/50\n",
      "383/383 [==============================] - 0s 784us/step - loss: 0.8427 - mae: 0.5499 - val_loss: 0.8464 - val_mae: 0.5468\n",
      "Epoch 29/50\n",
      "383/383 [==============================] - 0s 842us/step - loss: 0.8420 - mae: 0.5490 - val_loss: 0.8467 - val_mae: 0.5486\n",
      "Epoch 30/50\n",
      "383/383 [==============================] - 0s 860us/step - loss: 0.8428 - mae: 0.5489 - val_loss: 0.8473 - val_mae: 0.5497\n",
      "Epoch 31/50\n",
      "383/383 [==============================] - 0s 1ms/step - loss: 0.8417 - mae: 0.5488 - val_loss: 0.8413 - val_mae: 0.5441\n",
      "Epoch 32/50\n",
      "383/383 [==============================] - 0s 867us/step - loss: 0.8414 - mae: 0.5487 - val_loss: 0.8411 - val_mae: 0.5449\n",
      "Epoch 33/50\n",
      "383/383 [==============================] - 0s 829us/step - loss: 0.8409 - mae: 0.5478 - val_loss: 0.8432 - val_mae: 0.5467\n",
      "Epoch 34/50\n",
      "383/383 [==============================] - 0s 1ms/step - loss: 0.8404 - mae: 0.5479 - val_loss: 0.8436 - val_mae: 0.5461\n",
      "Epoch 35/50\n",
      "383/383 [==============================] - 0s 757us/step - loss: 0.8400 - mae: 0.5477 - val_loss: 0.8389 - val_mae: 0.5442\n",
      "Epoch 36/50\n",
      "383/383 [==============================] - 0s 941us/step - loss: 0.8399 - mae: 0.5474 - val_loss: 0.8431 - val_mae: 0.5454\n",
      "Epoch 37/50\n",
      "383/383 [==============================] - 0s 1ms/step - loss: 0.8387 - mae: 0.5466 - val_loss: 0.8459 - val_mae: 0.5480\n",
      "Epoch 38/50\n",
      "383/383 [==============================] - 0s 909us/step - loss: 0.8385 - mae: 0.5461 - val_loss: 0.8477 - val_mae: 0.5482\n",
      "Epoch 39/50\n",
      "383/383 [==============================] - 0s 907us/step - loss: 0.8377 - mae: 0.5462 - val_loss: 0.8422 - val_mae: 0.5443\n",
      "Epoch 40/50\n",
      "383/383 [==============================] - 0s 1ms/step - loss: 0.8375 - mae: 0.5457 - val_loss: 0.8392 - val_mae: 0.5433\n",
      "Epoch 41/50\n",
      "383/383 [==============================] - 0s 909us/step - loss: 0.8378 - mae: 0.5464 - val_loss: 0.8383 - val_mae: 0.5433\n",
      "Epoch 42/50\n",
      "383/383 [==============================] - 0s 929us/step - loss: 0.8368 - mae: 0.5450 - val_loss: 0.8396 - val_mae: 0.5434\n",
      "Epoch 43/50\n",
      "383/383 [==============================] - 0s 1ms/step - loss: 0.8360 - mae: 0.5446 - val_loss: 0.8378 - val_mae: 0.5417\n",
      "Epoch 44/50\n",
      "383/383 [==============================] - 0s 846us/step - loss: 0.8370 - mae: 0.5453 - val_loss: 0.8382 - val_mae: 0.5437\n",
      "Epoch 45/50\n",
      "383/383 [==============================] - 0s 818us/step - loss: 0.8368 - mae: 0.5452 - val_loss: 0.8380 - val_mae: 0.5424\n",
      "Epoch 46/50\n",
      "383/383 [==============================] - 0s 839us/step - loss: 0.8361 - mae: 0.5452 - val_loss: 0.8418 - val_mae: 0.5471\n",
      "Epoch 47/50\n",
      "383/383 [==============================] - 0s 754us/step - loss: 0.8354 - mae: 0.5443 - val_loss: 0.8455 - val_mae: 0.5515\n",
      "Epoch 48/50\n",
      "383/383 [==============================] - 0s 988us/step - loss: 0.8356 - mae: 0.5446 - val_loss: 0.8375 - val_mae: 0.5425\n",
      "Epoch 49/50\n",
      "383/383 [==============================] - 0s 889us/step - loss: 0.8348 - mae: 0.5438 - val_loss: 0.8387 - val_mae: 0.5429\n",
      "Epoch 50/50\n",
      "383/383 [==============================] - 0s 879us/step - loss: 0.8350 - mae: 0.5437 - val_loss: 0.8391 - val_mae: 0.5445\n"
     ]
    }
   ],
   "source": [
    "# Usage example\n",
    "vap_system = EnhancedMultiDimensionalVAP(df_sample)"
   ]
  },
  {
   "cell_type": "code",
   "execution_count": 29,
   "metadata": {},
   "outputs": [],
   "source": [
    "# Add some sample VAPs (this would typically be done with real data)\n",
    "vap_system.add_vap(-33.98, 140.38, 1481.0, 0.097864)\n",
    "vap_system.add_vap(28.15, 60.42, 1301.7, -0.785708)"
   ]
  },
  {
   "cell_type": "code",
   "execution_count": 30,
   "metadata": {},
   "outputs": [
    {
     "name": "stderr",
     "output_type": "stream",
     "text": [
      "/Users/juanmanuelpaiba/.pyenv/versions/3.8.17/lib/python3.8/site-packages/sklearn/base.py:439: UserWarning: X does not have valid feature names, but NearestNeighbors was fitted with feature names\n",
      "  warnings.warn(\n"
     ]
    }
   ],
   "source": [
    "# Find nearest VAPs\n",
    "nearest_vaps = vap_system.find_nearest_vaps(4.5, 282.4196, num_vaps=4) "
   ]
  },
  {
   "cell_type": "code",
   "execution_count": 31,
   "metadata": {},
   "outputs": [
    {
     "data": {
      "text/html": [
       "<div>\n",
       "<style scoped>\n",
       "    .dataframe tbody tr th:only-of-type {\n",
       "        vertical-align: middle;\n",
       "    }\n",
       "\n",
       "    .dataframe tbody tr th {\n",
       "        vertical-align: top;\n",
       "    }\n",
       "\n",
       "    .dataframe thead th {\n",
       "        text-align: right;\n",
       "    }\n",
       "</style>\n",
       "<table border=\"1\" class=\"dataframe\">\n",
       "  <thead>\n",
       "    <tr style=\"text-align: right;\">\n",
       "      <th></th>\n",
       "      <th>latitude</th>\n",
       "      <th>longitude</th>\n",
       "      <th>grav_anom</th>\n",
       "      <th>Magnetic_Anomaly_mGal</th>\n",
       "    </tr>\n",
       "  </thead>\n",
       "  <tbody>\n",
       "    <tr>\n",
       "      <th>33170</th>\n",
       "      <td>4.38</td>\n",
       "      <td>282.22</td>\n",
       "      <td>-7.7</td>\n",
       "      <td>0.002042</td>\n",
       "    </tr>\n",
       "    <tr>\n",
       "      <th>18470</th>\n",
       "      <td>4.65</td>\n",
       "      <td>282.62</td>\n",
       "      <td>50.3</td>\n",
       "      <td>0.070678</td>\n",
       "    </tr>\n",
       "    <tr>\n",
       "      <th>47236</th>\n",
       "      <td>4.18</td>\n",
       "      <td>281.72</td>\n",
       "      <td>17.3</td>\n",
       "      <td>-0.212573</td>\n",
       "    </tr>\n",
       "    <tr>\n",
       "      <th>56041</th>\n",
       "      <td>4.18</td>\n",
       "      <td>281.68</td>\n",
       "      <td>21.0</td>\n",
       "      <td>-0.212472</td>\n",
       "    </tr>\n",
       "  </tbody>\n",
       "</table>\n",
       "</div>"
      ],
      "text/plain": [
       "       latitude  longitude  grav_anom  Magnetic_Anomaly_mGal\n",
       "33170      4.38     282.22       -7.7               0.002042\n",
       "18470      4.65     282.62       50.3               0.070678\n",
       "47236      4.18     281.72       17.3              -0.212573\n",
       "56041      4.18     281.68       21.0              -0.212472"
      ]
     },
     "execution_count": 31,
     "metadata": {},
     "output_type": "execute_result"
    }
   ],
   "source": [
    "nearest_vaps"
   ]
  },
  {
   "cell_type": "code",
   "execution_count": null,
   "metadata": {},
   "outputs": [],
   "source": []
  },
  {
   "cell_type": "code",
   "execution_count": 32,
   "metadata": {},
   "outputs": [
    {
     "name": "stdout",
     "output_type": "stream",
     "text": [
      "{'latitude': 4.340018987268402, 'longitude': 282.0447680033413, 'gravity_anomaly': 20.224999999999998, 'magnetic_field': -0.08808103573422732}\n"
     ]
    }
   ],
   "source": [
    "# Example usage with keyword arguments\n",
    "estimated_position = vap_system.interpolate_position(\n",
    "    nearest_vaps,\n",
    "    latitude=4.5,\n",
    "    longitude=272.4196\n",
    ")\n",
    "\n",
    "print(estimated_position)"
   ]
  },
  {
   "cell_type": "code",
   "execution_count": 33,
   "metadata": {},
   "outputs": [],
   "source": [
    "# Calculate confidence\n",
    "confidence = vap_system.calculate_confidence(nearest_vaps, 35, 0.6)"
   ]
  },
  {
   "cell_type": "code",
   "execution_count": 34,
   "metadata": {},
   "outputs": [
    {
     "name": "stdout",
     "output_type": "stream",
     "text": [
      "Estimated position: {'latitude': 4.340018987268402, 'longitude': 282.0447680033413, 'gravity_anomaly': 20.224999999999998, 'magnetic_field': -0.08808103573422732}\n",
      "Confidence: 0.3033874182717345\n",
      "1/1 [==============================] - 0s 32ms/step\n",
      "Predicted anomalies: Magnetic = -4.948750972747803, Gravity = 0.35518550872802734\n"
     ]
    }
   ],
   "source": [
    "print(f\"Estimated position: {estimated_position}\")\n",
    "print(f\"Confidence: {confidence}\")\n",
    "\n",
    "# Predict anomalies for a new location\n",
    "predicted_anomalies = vap_system.predict_anomalies(37.7752, -122.4197)\n",
    "print(f\"Predicted anomalies: Magnetic = {predicted_anomalies[0]}, Gravity = {predicted_anomalies[1]}\")"
   ]
  },
  {
   "cell_type": "code",
   "execution_count": null,
   "metadata": {},
   "outputs": [],
   "source": []
  },
  {
   "cell_type": "code",
   "execution_count": null,
   "metadata": {},
   "outputs": [],
   "source": []
  },
  {
   "cell_type": "code",
   "execution_count": null,
   "metadata": {},
   "outputs": [],
   "source": []
  },
  {
   "cell_type": "code",
   "execution_count": null,
   "metadata": {},
   "outputs": [],
   "source": []
  }
 ],
 "metadata": {
  "kernelspec": {
   "display_name": "Python 3",
   "language": "python",
   "name": "python3"
  },
  "language_info": {
   "codemirror_mode": {
    "name": "ipython",
    "version": 3
   },
   "file_extension": ".py",
   "mimetype": "text/x-python",
   "name": "python",
   "nbconvert_exporter": "python",
   "pygments_lexer": "ipython3",
   "version": "3.8.17"
  }
 },
 "nbformat": 4,
 "nbformat_minor": 2
}
