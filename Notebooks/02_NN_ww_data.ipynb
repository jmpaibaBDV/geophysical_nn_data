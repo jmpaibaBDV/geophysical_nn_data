{
 "cells": [
  {
   "cell_type": "code",
   "execution_count": 1,
   "metadata": {},
   "outputs": [],
   "source": [
    "import numpy as np\n",
    "import tensorflow as tf\n",
    "import matplotlib.pyplot as plt\n",
    "import pandas as pd\n",
    "import pandas as pd\n",
    "\n",
    "\n",
    "from tensorflow import keras\n",
    "from sklearn.model_selection import train_test_split\n",
    "from sklearn.preprocessing import StandardScaler\n",
    "from sklearn.model_selection import train_test_split\n",
    "from sklearn.metrics import mean_absolute_error, mean_squared_error\n",
    "from scipy.spatial.distance import euclidean\n",
    "from sklearn.neighbors import NearestNeighbors\n"
   ]
  },
  {
   "cell_type": "code",
   "execution_count": null,
   "metadata": {},
   "outputs": [],
   "source": []
  },
  {
   "cell_type": "code",
   "execution_count": 2,
   "metadata": {},
   "outputs": [],
   "source": [
    "class AnomalyPredictor:\n",
    "    def __init__(self):\n",
    "        self.model = None\n",
    "        self.scaler_X = StandardScaler()\n",
    "        self.scaler_y = StandardScaler()\n",
    "\n",
    "    def create_model(self):\n",
    "        model = keras.Sequential([\n",
    "            keras.layers.Dense(64, activation='relu', input_shape=(2,)),  # Adjust input shape\n",
    "            keras.layers.Dense(32, activation='relu'),\n",
    "            keras.layers.Dense(16, activation='relu'),\n",
    "            keras.layers.Dense(2)  # Output layer: [magnetic_anomaly, gravity_anomaly]\n",
    "        ])\n",
    "        \n",
    "        model.compile(optimizer='adam', loss='mse', metrics=['mae'])\n",
    "        self.model = model\n",
    "\n",
    "    def train(self, X, y, epochs=50, batch_size=64):\n",
    "        X_scaled = self.scaler_X.fit_transform(X)\n",
    "        y_scaled = self.scaler_y.fit_transform(y)\n",
    "        \n",
    "        X_train, X_val, y_train, y_val = train_test_split(X_scaled, y_scaled, test_size=0.3, random_state=42)\n",
    "        \n",
    "        history = self.model.fit(\n",
    "            X_train, y_train,\n",
    "            validation_data=(X_val, y_val),\n",
    "            epochs=epochs,\n",
    "            batch_size=batch_size,\n",
    "            verbose=1\n",
    "        )\n",
    "        return history\n",
    "\n",
    "    def predict(self, X):\n",
    "        X_scaled = self.scaler_X.transform(X)\n",
    "        y_pred_scaled = self.model.predict(X_scaled)\n",
    "        return self.scaler_y.inverse_transform(y_pred_scaled)\n"
   ]
  },
  {
   "cell_type": "code",
   "execution_count": 3,
   "metadata": {},
   "outputs": [],
   "source": [
    "import os\n",
    "os.getcwd()\n",
    "os.chdir('/Users/juanmanuelpaiba/Documents/Juan_Paiba/BairesDev/geophysical_nn_data')"
   ]
  },
  {
   "cell_type": "code",
   "execution_count": 4,
   "metadata": {},
   "outputs": [],
   "source": [
    "# Read the Parquet file\n",
    "file_path = 'Data/Outputs/nn_data.gzip.parquet'\n",
    "df = pd.read_parquet(file_path, engine='pyarrow')"
   ]
  },
  {
   "cell_type": "code",
   "execution_count": 5,
   "metadata": {},
   "outputs": [
    {
     "name": "stdout",
     "output_type": "stream",
     "text": [
      "(2610615, 4)\n"
     ]
    },
    {
     "data": {
      "text/html": [
       "<div>\n",
       "<style scoped>\n",
       "    .dataframe tbody tr th:only-of-type {\n",
       "        vertical-align: middle;\n",
       "    }\n",
       "\n",
       "    .dataframe tbody tr th {\n",
       "        vertical-align: top;\n",
       "    }\n",
       "\n",
       "    .dataframe thead th {\n",
       "        text-align: right;\n",
       "    }\n",
       "</style>\n",
       "<table border=\"1\" class=\"dataframe\">\n",
       "  <thead>\n",
       "    <tr style=\"text-align: right;\">\n",
       "      <th></th>\n",
       "      <th>latitude</th>\n",
       "      <th>longitude</th>\n",
       "      <th>grav_anom</th>\n",
       "      <th>Magnetic_Anomaly_mGal</th>\n",
       "    </tr>\n",
       "  </thead>\n",
       "  <tbody>\n",
       "    <tr>\n",
       "      <th>0</th>\n",
       "      <td>71.98</td>\n",
       "      <td>0.02</td>\n",
       "      <td>1258.8</td>\n",
       "      <td>0.264106</td>\n",
       "    </tr>\n",
       "    <tr>\n",
       "      <th>1</th>\n",
       "      <td>71.98</td>\n",
       "      <td>0.12</td>\n",
       "      <td>1233.2</td>\n",
       "      <td>0.193864</td>\n",
       "    </tr>\n",
       "    <tr>\n",
       "      <th>2</th>\n",
       "      <td>71.98</td>\n",
       "      <td>0.58</td>\n",
       "      <td>1131.3</td>\n",
       "      <td>-1.882204</td>\n",
       "    </tr>\n",
       "    <tr>\n",
       "      <th>3</th>\n",
       "      <td>71.98</td>\n",
       "      <td>0.95</td>\n",
       "      <td>1361.6</td>\n",
       "      <td>-0.242788</td>\n",
       "    </tr>\n",
       "    <tr>\n",
       "      <th>4</th>\n",
       "      <td>71.98</td>\n",
       "      <td>1.32</td>\n",
       "      <td>257.3</td>\n",
       "      <td>-0.686848</td>\n",
       "    </tr>\n",
       "  </tbody>\n",
       "</table>\n",
       "</div>"
      ],
      "text/plain": [
       "   latitude  longitude  grav_anom  Magnetic_Anomaly_mGal\n",
       "0     71.98       0.02     1258.8               0.264106\n",
       "1     71.98       0.12     1233.2               0.193864\n",
       "2     71.98       0.58     1131.3              -1.882204\n",
       "3     71.98       0.95     1361.6              -0.242788\n",
       "4     71.98       1.32      257.3              -0.686848"
      ]
     },
     "execution_count": 5,
     "metadata": {},
     "output_type": "execute_result"
    }
   ],
   "source": [
    "print(df.shape)\n",
    "df.head()"
   ]
  },
  {
   "cell_type": "code",
   "execution_count": 6,
   "metadata": {},
   "outputs": [],
   "source": [
    "# Create a smaller sample\n",
    "sample_size = 20000  # Adjust this number as needed\n",
    "df_sample = df.sample(n=sample_size, random_state=42)"
   ]
  },
  {
   "cell_type": "code",
   "execution_count": 7,
   "metadata": {},
   "outputs": [],
   "source": [
    "# Define X and y\n",
    "X = df_sample[['latitude', 'longitude']]\n",
    "y = df_sample[['grav_anom','Magnetic_Anomaly_mGal']]"
   ]
  },
  {
   "cell_type": "code",
   "execution_count": 8,
   "metadata": {},
   "outputs": [],
   "source": [
    "# Split the data into training and testing sets\n",
    "X_train, X_test, y_train, y_test = train_test_split(X, y, test_size=0.2, random_state=42)"
   ]
  },
  {
   "cell_type": "code",
   "execution_count": null,
   "metadata": {},
   "outputs": [],
   "source": []
  },
  {
   "cell_type": "code",
   "execution_count": 9,
   "metadata": {},
   "outputs": [
    {
     "name": "stdout",
     "output_type": "stream",
     "text": [
      "Epoch 1/50\n",
      "219/219 [==============================] - 0s 1ms/step - loss: 1.0067 - mae: 0.6362 - val_loss: 1.0007 - val_mae: 0.6431\n",
      "Epoch 2/50\n",
      "219/219 [==============================] - 0s 1ms/step - loss: 1.0010 - mae: 0.6343 - val_loss: 0.9998 - val_mae: 0.6464\n",
      "Epoch 3/50\n",
      "219/219 [==============================] - 0s 762us/step - loss: 1.0004 - mae: 0.6342 - val_loss: 1.0001 - val_mae: 0.6497\n",
      "Epoch 4/50\n",
      "219/219 [==============================] - 0s 763us/step - loss: 1.0003 - mae: 0.6343 - val_loss: 1.0000 - val_mae: 0.6472\n",
      "Epoch 5/50\n",
      "219/219 [==============================] - 0s 762us/step - loss: 1.0003 - mae: 0.6346 - val_loss: 1.0008 - val_mae: 0.6427\n",
      "Epoch 6/50\n",
      "219/219 [==============================] - 0s 749us/step - loss: 1.0002 - mae: 0.6348 - val_loss: 1.0000 - val_mae: 0.6475\n",
      "Epoch 7/50\n",
      "219/219 [==============================] - 0s 772us/step - loss: 1.0001 - mae: 0.6345 - val_loss: 1.0004 - val_mae: 0.6455\n",
      "Epoch 8/50\n",
      "219/219 [==============================] - 0s 756us/step - loss: 0.9999 - mae: 0.6333 - val_loss: 1.0004 - val_mae: 0.6447\n",
      "Epoch 9/50\n",
      "219/219 [==============================] - 0s 759us/step - loss: 0.9999 - mae: 0.6344 - val_loss: 1.0005 - val_mae: 0.6437\n",
      "Epoch 10/50\n",
      "219/219 [==============================] - 0s 756us/step - loss: 0.9999 - mae: 0.6345 - val_loss: 1.0008 - val_mae: 0.6429\n",
      "Epoch 11/50\n",
      "219/219 [==============================] - 0s 772us/step - loss: 0.9998 - mae: 0.6339 - val_loss: 1.0004 - val_mae: 0.6459\n",
      "Epoch 12/50\n",
      "219/219 [==============================] - 0s 753us/step - loss: 0.9996 - mae: 0.6335 - val_loss: 1.0005 - val_mae: 0.6460\n",
      "Epoch 13/50\n",
      "219/219 [==============================] - 0s 773us/step - loss: 0.9998 - mae: 0.6340 - val_loss: 1.0001 - val_mae: 0.6460\n",
      "Epoch 14/50\n",
      "219/219 [==============================] - 0s 760us/step - loss: 0.9994 - mae: 0.6336 - val_loss: 0.9998 - val_mae: 0.6490\n",
      "Epoch 15/50\n",
      "219/219 [==============================] - 0s 749us/step - loss: 0.9995 - mae: 0.6345 - val_loss: 1.0001 - val_mae: 0.6439\n",
      "Epoch 16/50\n",
      "219/219 [==============================] - 0s 774us/step - loss: 0.9993 - mae: 0.6345 - val_loss: 1.0003 - val_mae: 0.6462\n",
      "Epoch 17/50\n",
      "219/219 [==============================] - 0s 757us/step - loss: 0.9995 - mae: 0.6330 - val_loss: 0.9996 - val_mae: 0.6450\n",
      "Epoch 18/50\n",
      "219/219 [==============================] - 0s 756us/step - loss: 0.9995 - mae: 0.6344 - val_loss: 0.9998 - val_mae: 0.6475\n",
      "Epoch 19/50\n",
      "219/219 [==============================] - 0s 765us/step - loss: 0.9997 - mae: 0.6331 - val_loss: 1.0001 - val_mae: 0.6456\n",
      "Epoch 20/50\n",
      "219/219 [==============================] - 0s 759us/step - loss: 0.9993 - mae: 0.6343 - val_loss: 1.0002 - val_mae: 0.6451\n",
      "Epoch 21/50\n",
      "219/219 [==============================] - 0s 755us/step - loss: 0.9993 - mae: 0.6339 - val_loss: 1.0005 - val_mae: 0.6446\n",
      "Epoch 22/50\n",
      "219/219 [==============================] - 0s 760us/step - loss: 0.9996 - mae: 0.6343 - val_loss: 1.0001 - val_mae: 0.6452\n",
      "Epoch 23/50\n",
      "219/219 [==============================] - 0s 752us/step - loss: 0.9996 - mae: 0.6346 - val_loss: 1.0009 - val_mae: 0.6463\n",
      "Epoch 24/50\n",
      "219/219 [==============================] - 0s 1ms/step - loss: 0.9990 - mae: 0.6334 - val_loss: 1.0005 - val_mae: 0.6452\n",
      "Epoch 25/50\n",
      "219/219 [==============================] - 0s 781us/step - loss: 0.9989 - mae: 0.6337 - val_loss: 1.0001 - val_mae: 0.6508\n",
      "Epoch 26/50\n",
      "219/219 [==============================] - 0s 767us/step - loss: 0.9989 - mae: 0.6345 - val_loss: 1.0004 - val_mae: 0.6462\n",
      "Epoch 27/50\n",
      "219/219 [==============================] - 0s 764us/step - loss: 0.9993 - mae: 0.6344 - val_loss: 1.0011 - val_mae: 0.6427\n",
      "Epoch 28/50\n",
      "219/219 [==============================] - 0s 752us/step - loss: 0.9990 - mae: 0.6326 - val_loss: 1.0005 - val_mae: 0.6447\n",
      "Epoch 29/50\n",
      "219/219 [==============================] - 0s 757us/step - loss: 0.9990 - mae: 0.6345 - val_loss: 1.0008 - val_mae: 0.6450\n",
      "Epoch 30/50\n",
      "219/219 [==============================] - 0s 766us/step - loss: 0.9990 - mae: 0.6344 - val_loss: 1.0012 - val_mae: 0.6433\n",
      "Epoch 31/50\n",
      "219/219 [==============================] - 0s 749us/step - loss: 0.9988 - mae: 0.6335 - val_loss: 1.0006 - val_mae: 0.6448\n",
      "Epoch 32/50\n",
      "219/219 [==============================] - 0s 763us/step - loss: 0.9991 - mae: 0.6344 - val_loss: 1.0003 - val_mae: 0.6456\n",
      "Epoch 33/50\n",
      "219/219 [==============================] - 0s 761us/step - loss: 0.9984 - mae: 0.6340 - val_loss: 1.0023 - val_mae: 0.6422\n",
      "Epoch 34/50\n",
      "219/219 [==============================] - 0s 765us/step - loss: 0.9987 - mae: 0.6339 - val_loss: 1.0012 - val_mae: 0.6443\n",
      "Epoch 35/50\n",
      "219/219 [==============================] - 0s 755us/step - loss: 0.9987 - mae: 0.6327 - val_loss: 1.0010 - val_mae: 0.6478\n",
      "Epoch 36/50\n",
      "219/219 [==============================] - 0s 761us/step - loss: 0.9985 - mae: 0.6345 - val_loss: 1.0007 - val_mae: 0.6492\n",
      "Epoch 37/50\n",
      "219/219 [==============================] - 0s 771us/step - loss: 0.9987 - mae: 0.6351 - val_loss: 1.0009 - val_mae: 0.6439\n",
      "Epoch 38/50\n",
      "219/219 [==============================] - 0s 757us/step - loss: 0.9986 - mae: 0.6328 - val_loss: 1.0013 - val_mae: 0.6490\n",
      "Epoch 39/50\n",
      "219/219 [==============================] - 0s 766us/step - loss: 0.9985 - mae: 0.6341 - val_loss: 1.0017 - val_mae: 0.6461\n",
      "Epoch 40/50\n",
      "219/219 [==============================] - 0s 756us/step - loss: 0.9986 - mae: 0.6334 - val_loss: 1.0012 - val_mae: 0.6482\n",
      "Epoch 41/50\n",
      "219/219 [==============================] - 0s 760us/step - loss: 0.9986 - mae: 0.6346 - val_loss: 1.0012 - val_mae: 0.6451\n",
      "Epoch 42/50\n",
      "219/219 [==============================] - 0s 755us/step - loss: 0.9983 - mae: 0.6337 - val_loss: 1.0013 - val_mae: 0.6496\n",
      "Epoch 43/50\n",
      "219/219 [==============================] - 0s 759us/step - loss: 0.9985 - mae: 0.6343 - val_loss: 1.0008 - val_mae: 0.6488\n",
      "Epoch 44/50\n",
      "219/219 [==============================] - 0s 1ms/step - loss: 0.9987 - mae: 0.6348 - val_loss: 1.0008 - val_mae: 0.6455\n",
      "Epoch 45/50\n",
      "219/219 [==============================] - 0s 763us/step - loss: 0.9983 - mae: 0.6336 - val_loss: 1.0017 - val_mae: 0.6494\n",
      "Epoch 46/50\n",
      "219/219 [==============================] - 0s 754us/step - loss: 0.9986 - mae: 0.6342 - val_loss: 1.0017 - val_mae: 0.6452\n",
      "Epoch 47/50\n",
      "219/219 [==============================] - 0s 749us/step - loss: 0.9984 - mae: 0.6345 - val_loss: 1.0016 - val_mae: 0.6428\n",
      "Epoch 48/50\n",
      "219/219 [==============================] - 0s 757us/step - loss: 0.9986 - mae: 0.6338 - val_loss: 1.0016 - val_mae: 0.6471\n",
      "Epoch 49/50\n",
      "219/219 [==============================] - 0s 769us/step - loss: 0.9984 - mae: 0.6341 - val_loss: 1.0012 - val_mae: 0.6472\n",
      "Epoch 50/50\n",
      "219/219 [==============================] - 0s 767us/step - loss: 0.9982 - mae: 0.6355 - val_loss: 1.0024 - val_mae: 0.6410\n"
     ]
    }
   ],
   "source": [
    "# Create and train the model\n",
    "predictor = AnomalyPredictor()\n",
    "predictor.create_model()\n",
    "history = predictor.train(X, y, epochs=50, batch_size=64)"
   ]
  },
  {
   "cell_type": "code",
   "execution_count": 10,
   "metadata": {},
   "outputs": [
    {
     "data": {
      "text/html": [
       "<div>\n",
       "<style scoped>\n",
       "    .dataframe tbody tr th:only-of-type {\n",
       "        vertical-align: middle;\n",
       "    }\n",
       "\n",
       "    .dataframe tbody tr th {\n",
       "        vertical-align: top;\n",
       "    }\n",
       "\n",
       "    .dataframe thead th {\n",
       "        text-align: right;\n",
       "    }\n",
       "</style>\n",
       "<table border=\"1\" class=\"dataframe\">\n",
       "  <thead>\n",
       "    <tr style=\"text-align: right;\">\n",
       "      <th></th>\n",
       "      <th>latitude</th>\n",
       "      <th>longitude</th>\n",
       "    </tr>\n",
       "  </thead>\n",
       "  <tbody>\n",
       "    <tr>\n",
       "      <th>1601602</th>\n",
       "      <td>-16.18</td>\n",
       "      <td>165.68</td>\n",
       "    </tr>\n",
       "    <tr>\n",
       "      <th>2211711</th>\n",
       "      <td>-49.95</td>\n",
       "      <td>152.02</td>\n",
       "    </tr>\n",
       "    <tr>\n",
       "      <th>1347392</th>\n",
       "      <td>-2.22</td>\n",
       "      <td>91.35</td>\n",
       "    </tr>\n",
       "    <tr>\n",
       "      <th>1055967</th>\n",
       "      <td>14.02</td>\n",
       "      <td>209.82</td>\n",
       "    </tr>\n",
       "    <tr>\n",
       "      <th>1177803</th>\n",
       "      <td>7.38</td>\n",
       "      <td>175.65</td>\n",
       "    </tr>\n",
       "  </tbody>\n",
       "</table>\n",
       "</div>"
      ],
      "text/plain": [
       "         latitude  longitude\n",
       "1601602    -16.18     165.68\n",
       "2211711    -49.95     152.02\n",
       "1347392     -2.22      91.35\n",
       "1055967     14.02     209.82\n",
       "1177803      7.38     175.65"
      ]
     },
     "execution_count": 10,
     "metadata": {},
     "output_type": "execute_result"
    }
   ],
   "source": [
    "X_test.head()"
   ]
  },
  {
   "cell_type": "code",
   "execution_count": 11,
   "metadata": {},
   "outputs": [],
   "source": [
    "X_test_scaled = StandardScaler().fit_transform(X_test)"
   ]
  },
  {
   "cell_type": "code",
   "execution_count": 12,
   "metadata": {},
   "outputs": [
    {
     "name": "stdout",
     "output_type": "stream",
     "text": [
      "125/125 [==============================] - 0s 376us/step\n"
     ]
    },
    {
     "name": "stderr",
     "output_type": "stream",
     "text": [
      "/Users/juanmanuelpaiba/.pyenv/versions/3.8.17/lib/python3.8/site-packages/sklearn/base.py:439: UserWarning: X does not have valid feature names, but StandardScaler was fitted with feature names\n",
      "  warnings.warn(\n"
     ]
    }
   ],
   "source": [
    "# Make predictions using the subset\n",
    "y_pred = predictor.predict(X_test_scaled)"
   ]
  },
  {
   "cell_type": "code",
   "execution_count": 13,
   "metadata": {},
   "outputs": [
    {
     "name": "stdout",
     "output_type": "stream",
     "text": [
      "Magnetic Anomaly - Mean Absolute Error (MAE): 0.5684386780029245\n",
      "Magnetic Anomaly - Mean Squared Error (MSE): 0.8159254816657895\n",
      "Magnetic Anomaly - Root Mean Squared Error (RMSE): 0.9032859357179152\n"
     ]
    }
   ],
   "source": [
    "# Calculate Mean Absolute Error (MAE) for Magnetic_Anomaly_mGal\n",
    "mae_mag = mean_absolute_error(y_test['Magnetic_Anomaly_mGal'], y_pred[:, 1])\n",
    "\n",
    "# Calculate Mean Squared Error (MSE) for Magnetic_Anomaly_mGal\n",
    "mse_mag = mean_squared_error(y_test['Magnetic_Anomaly_mGal'], y_pred[:, 1])\n",
    "\n",
    "# Calculate Root Mean Squared Error (RMSE) for Magnetic_Anomaly_mGal\n",
    "rmse_mag = np.sqrt(mse_mag)\n",
    "\n",
    "print(f'Magnetic Anomaly - Mean Absolute Error (MAE): {mae_mag}')\n",
    "print(f'Magnetic Anomaly - Mean Squared Error (MSE): {mse_mag}')\n",
    "print(f'Magnetic Anomaly - Root Mean Squared Error (RMSE): {rmse_mag}')"
   ]
  },
  {
   "cell_type": "code",
   "execution_count": 14,
   "metadata": {},
   "outputs": [
    {
     "name": "stdout",
     "output_type": "stream",
     "text": [
      "Gravity Anomaly - Mean Absolute Error (MAE): 236.96282662963873\n",
      "Gravity Anomaly - Mean Squared Error (MSE): 127795.49726191729\n",
      "Gravity Anomaly - Root Mean Squared Error (RMSE): 357.4849608891503\n"
     ]
    }
   ],
   "source": [
    "# Calculate Mean Absolute Error (MAE) for grav_anom\n",
    "mae_grav = mean_absolute_error(y_test['grav_anom'], y_pred[:, 0])\n",
    "\n",
    "# Calculate Mean Squared Error (MSE) for grav_anom\n",
    "mse_grav = mean_squared_error(y_test['grav_anom'], y_pred[:, 0])\n",
    "\n",
    "# Calculate Root Mean Squared Error (RMSE) for grav_anom\n",
    "rmse_grav = np.sqrt(mse_grav)\n",
    "\n",
    "print(f'Gravity Anomaly - Mean Absolute Error (MAE): {mae_grav}')\n",
    "print(f'Gravity Anomaly - Mean Squared Error (MSE): {mse_grav}')\n",
    "print(f'Gravity Anomaly - Root Mean Squared Error (RMSE): {rmse_grav}')"
   ]
  },
  {
   "cell_type": "code",
   "execution_count": 15,
   "metadata": {},
   "outputs": [
    {
     "data": {
      "image/png": "[encoded data removed]",
      "text/plain": [
       "<Figure size 800x600 with 1 Axes>"
      ]
     },
     "metadata": {},
     "output_type": "display_data"
    }
   ],
   "source": [
    "# Calculate residuals for Magnetic_Anomaly_mGal\n",
    "residuals_mag = y_test['Magnetic_Anomaly_mGal'] - y_pred[:, 1]\n",
    "\n",
    "# Plot residuals against predicted values for Magnetic_Anomaly_mGal\n",
    "plt.figure(figsize=(8, 6))\n",
    "plt.scatter(y_pred[:, 0], residuals_mag)\n",
    "plt.axhline(y=0, color='r', linestyle='-', linewidth=1)\n",
    "plt.xlabel('Predicted Magnetic Anomaly (mGal)')\n",
    "plt.ylabel('Residuals')\n",
    "plt.title('Residual Plot for Magnetic Anomaly')\n",
    "plt.grid(True)\n",
    "plt.show()"
   ]
  },
  {
   "cell_type": "code",
   "execution_count": null,
   "metadata": {},
   "outputs": [],
   "source": []
  },
  {
   "cell_type": "code",
   "execution_count": 16,
   "metadata": {},
   "outputs": [
    {
     "data": {
      "image/png": "[encoded data removed]",
      "text/plain": [
       "<Figure size 800x600 with 1 Axes>"
      ]
     },
     "metadata": {},
     "output_type": "display_data"
    }
   ],
   "source": [
    "# Calculate residuals for grav_anom\n",
    "residuals_grav = y_test['grav_anom'] - y_pred[:, 0]\n",
    "\n",
    "# Plot residuals against predicted values for grav_anom\n",
    "plt.figure(figsize=(8, 6))\n",
    "plt.scatter(y_pred[:, 1], residuals_grav)\n",
    "plt.axhline(y=0, color='r', linestyle='-', linewidth=1)\n",
    "plt.xlabel('Predicted Gravity Anomaly')\n",
    "plt.ylabel('Residuals')\n",
    "plt.title('Residual Plot for Gravity Anomaly')\n",
    "plt.grid(True)\n",
    "plt.show()"
   ]
  },
  {
   "cell_type": "code",
   "execution_count": null,
   "metadata": {},
   "outputs": [],
   "source": []
  },
  {
   "cell_type": "code",
   "execution_count": null,
   "metadata": {},
   "outputs": [],
   "source": []
  },
  {
   "cell_type": "code",
   "execution_count": 38,
   "metadata": {},
   "outputs": [],
   "source": [
    "class MultiDimensionalVAP:\n",
    "    def __init__(self, dataframe):\n",
    "        self.data = dataframe\n",
    "        self.nbrs = NearestNeighbors(n_neighbors=3, algorithm='ball_tree').fit(self.data[['latitude', 'longitude']])\n",
    "    \n",
    "    def add_vap(self, latitude, longitude, grav_anom, Magnetic_Anomaly_mGal):\n",
    "        new_vap = pd.DataFrame({\n",
    "            'latitude': [latitude],\n",
    "            'longitude': [longitude],\n",
    "            'grav_anom': [grav_anom],\n",
    "            #'elevation': [elevation],\n",
    "            'Magnetic_Anomaly_mGal': [Magnetic_Anomaly_mGal]\n",
    "            \n",
    "          #  'pressure': [pressure]\n",
    "        })\n",
    "        self.data = pd.concat([self.data, new_vap], ignore_index=True)\n",
    "        self.nbrs.fit(self.data[['latitude', 'longitude']])\n",
    "    \n",
    "    def find_nearest_vaps(self, latitude, longitude, num_vaps=3):\n",
    "        distances, indices = self.nbrs.kneighbors([[latitude, longitude]], n_neighbors=num_vaps)\n",
    "        return self.data.iloc[indices[0]]\n",
    "    \n",
    "    def interpolate_position(self, vaps, **kwargs):\n",
    "        \"\"\"\n",
    "        Interpolates the position based on given readings.\n",
    "        \n",
    "        Parameters:\n",
    "        vaps (pd.DataFrame): DataFrame containing VAPs data.\n",
    "        **kwargs: Arbitrary keyword arguments containing latitude, longitude,\n",
    "                  magnetic_reading, gravity_reading.\n",
    "        \n",
    "        Returns:\n",
    "        dict: A dictionary containing the interpolated position and readings.\n",
    "        \"\"\"\n",
    "        # Retrieve values from kwargs\n",
    "        latitude = kwargs.get('latitude', None)\n",
    "        longitude = kwargs.get('longitude', None)\n",
    "        gravity_reading = kwargs.get('grav_anom', None)\n",
    "        magnetic_reading = kwargs.get('Magnetic_Anomaly_mGal', None)\n",
    "        \n",
    "        \n",
    "        if latitude is None or longitude is None:\n",
    "            raise ValueError(\"Latitude and longitude must be provided.\")\n",
    "        \n",
    "        # Calculate weights based on inverse distance\n",
    "        distances = vaps.apply(lambda row: euclidean((row['latitude'], row['longitude']), (latitude, longitude)), axis=1)\n",
    "        weights = 1 / distances\n",
    "        weights /= weights.sum()  # Normalize weights to sum to 1\n",
    "        \n",
    "        # Perform weighted average interpolation for latitude and longitude\n",
    "        interpolated_latitude = np.sum(weights * vaps['latitude'])\n",
    "        interpolated_longitude = np.sum(weights * vaps['longitude'])\n",
    "        \n",
    "        # For elevation, you can implement interpolation logic here if elevation data is available\n",
    "        \n",
    "        # Return interpolated values along with provided readings\n",
    "        return {\n",
    "            'latitude': interpolated_latitude,\n",
    "            'longitude': interpolated_longitude,\n",
    "            'gravity_anomaly': gravity_reading,\n",
    "            'magnetic_field': magnetic_reading\n",
    "        }"
   ]
  },
  {
   "cell_type": "code",
   "execution_count": 64,
   "metadata": {},
   "outputs": [],
   "source": [
    "class EnhancedMultiDimensionalVAP(MultiDimensionalVAP):\n",
    "    def __init__(self, db_path):\n",
    "        super().__init__(db_path)\n",
    "        self.anomaly_predictor = AnomalyPredictor()\n",
    "        self.train_predictor()\n",
    "\n",
    "    def train_predictor(self):\n",
    "        # Fetch all VAP data\n",
    "        #self.cursor.execute('SELECT latitude, longitude, magnetic_anomaly, gravity_anomaly FROM multi_vaps')\n",
    "        data = self.data[['latitude', 'longitude', 'grav_anom','Magnetic_Anomaly_mGal']]\n",
    "        X = data[['latitude', 'longitude']].values\n",
    "        y = data[['grav_anom','Magnetic_Anomaly_mGal']].values\n",
    "        \n",
    "        self.anomaly_predictor.create_model()\n",
    "        self.anomaly_predictor.train(X, y)\n",
    "\n",
    "    def predict_anomalies(self, lat, lon):\n",
    "        X = np.array([[lat, lon]])\n",
    "        y_pred = self.anomaly_predictor.predict(X)\n",
    "        return y_pred[0]\n",
    "        \n",
    "    def interpolate_position(self, vaps, latitude=None, longitude=None, gravity_reading=None, magnetic_reading=None):\n",
    "        if latitude is None or longitude is None:\n",
    "            raise ValueError(\"Latitude and longitude must be provided.\")\n",
    "\n",
    "        if len(vaps) < 3:  # If we have very sparse data\n",
    "            # Predict anomalies for the current location\n",
    "            predicted_anomalies = self.predict_anomalies(latitude, longitude)\n",
    "\n",
    "            # Create a DataFrame with the new row\n",
    "            new_row = pd.DataFrame({\n",
    "                'latitude': [latitude],\n",
    "                'longitude': [longitude],\n",
    "                'grav_anom': [predicted_anomalies[0]],\n",
    "                'Magnetic_Anomaly_mGal': [predicted_anomalies[1]],\n",
    "            })\n",
    "\n",
    "            # Combine the original DataFrame with the new row\n",
    "            combined_vaps = pd.concat([vaps, new_row], ignore_index=True)\n",
    "\n",
    "            return super().interpolate_position(combined_vaps, gravity_reading, magnetic_reading)\n",
    "        else:\n",
    "            # Calculate weights based on inverse distance\n",
    "            distances = vaps.apply(lambda row: euclidean((row['latitude'], row['longitude']), (latitude, longitude)), axis=1)\n",
    "            weights = 1 / distances\n",
    "            weights /= weights.sum()  # Normalize weights to sum to 1\n",
    "            \n",
    "            # Perform weighted average interpolation for latitude and longitude\n",
    "            interpolated_latitude = np.sum(weights * vaps['latitude'])\n",
    "            interpolated_longitude = np.sum(weights * vaps['longitude'])\n",
    "            \n",
    "            # For gravity and magnetic fields, take the average (or apply custom logic as needed)\n",
    "            interpolated_gravity_anomaly = np.mean(vaps['grav_anom'])\n",
    "            interpolated_magnetic_field = np.mean(vaps['Magnetic_Anomaly_mGal'])\n",
    "\n",
    "            # Return interpolated values along with provided readings\n",
    "            return {\n",
    "                'latitude': interpolated_latitude,\n",
    "                'longitude': interpolated_longitude,\n",
    "                'gravity_anomaly': interpolated_gravity_anomaly,\n",
    "                'magnetic_field': interpolated_magnetic_field,\n",
    "            }\n",
    "        \n",
    "    def calculate_confidence(self, vaps, gravity_reading, magnetic_reading):\n",
    "        \"\"\"\n",
    "        Calculate the confidence of the interpolation based on the VAPs data and the readings.\n",
    "\n",
    "        Parameters:\n",
    "        vaps (pd.DataFrame): DataFrame containing VAPs data.\n",
    "        magnetic_reading (float): Magnetic field reading.\n",
    "        gravity_reading (float): Gravity anomaly reading.\n",
    "\n",
    "        Returns:\n",
    "        float: Confidence value (0 to 1).\n",
    "        \"\"\"\n",
    "        if len(vaps) < 2:\n",
    "            return 0.5  # If less than 2 VAPs, return a low confidence by default\n",
    "\n",
    "        # Calculate distance-based confidence\n",
    "        lat_mean = vaps['latitude'].mean()\n",
    "        lon_mean = vaps['longitude'].mean()\n",
    "        distances = np.sqrt((vaps['latitude'] - lat_mean)**2 + (vaps['longitude'] - lon_mean)**2)\n",
    "        distance_confidence = 1 - np.mean(distances)  # Closer VAPs give higher confidence\n",
    "\n",
    "        # Calculate reading variance-based confidence\n",
    "        magnetic_variance = vaps['Magnetic_Anomaly_mGal'].var()\n",
    "        gravity_variance = vaps['grav_anom'].var()\n",
    "        reading_variance = (magnetic_variance + gravity_variance) / 3\n",
    "        reading_confidence = 1 / (1 + reading_variance)  # Lower variance gives higher confidence\n",
    "\n",
    "        # Combine both confidences\n",
    "        combined_confidence = (distance_confidence + reading_confidence) / 2\n",
    "\n",
    "        # Ensure confidence is between 0 and 1\n",
    "        return max(0, min(1, combined_confidence))\n"
   ]
  },
  {
   "cell_type": "code",
   "execution_count": 65,
   "metadata": {},
   "outputs": [
    {
     "data": {
      "text/html": [
       "<div>\n",
       "<style scoped>\n",
       "    .dataframe tbody tr th:only-of-type {\n",
       "        vertical-align: middle;\n",
       "    }\n",
       "\n",
       "    .dataframe tbody tr th {\n",
       "        vertical-align: top;\n",
       "    }\n",
       "\n",
       "    .dataframe thead th {\n",
       "        text-align: right;\n",
       "    }\n",
       "</style>\n",
       "<table border=\"1\" class=\"dataframe\">\n",
       "  <thead>\n",
       "    <tr style=\"text-align: right;\">\n",
       "      <th></th>\n",
       "      <th>latitude</th>\n",
       "      <th>longitude</th>\n",
       "    </tr>\n",
       "  </thead>\n",
       "  <tbody>\n",
       "    <tr>\n",
       "      <th>1601602</th>\n",
       "      <td>-16.18</td>\n",
       "      <td>165.68</td>\n",
       "    </tr>\n",
       "    <tr>\n",
       "      <th>2211711</th>\n",
       "      <td>-49.95</td>\n",
       "      <td>152.02</td>\n",
       "    </tr>\n",
       "    <tr>\n",
       "      <th>1347392</th>\n",
       "      <td>-2.22</td>\n",
       "      <td>91.35</td>\n",
       "    </tr>\n",
       "    <tr>\n",
       "      <th>1055967</th>\n",
       "      <td>14.02</td>\n",
       "      <td>209.82</td>\n",
       "    </tr>\n",
       "    <tr>\n",
       "      <th>1177803</th>\n",
       "      <td>7.38</td>\n",
       "      <td>175.65</td>\n",
       "    </tr>\n",
       "    <tr>\n",
       "      <th>...</th>\n",
       "      <td>...</td>\n",
       "      <td>...</td>\n",
       "    </tr>\n",
       "    <tr>\n",
       "      <th>1008345</th>\n",
       "      <td>16.68</td>\n",
       "      <td>41.85</td>\n",
       "    </tr>\n",
       "    <tr>\n",
       "      <th>2296584</th>\n",
       "      <td>-54.72</td>\n",
       "      <td>207.05</td>\n",
       "    </tr>\n",
       "    <tr>\n",
       "      <th>891887</th>\n",
       "      <td>23.68</td>\n",
       "      <td>285.08</td>\n",
       "    </tr>\n",
       "    <tr>\n",
       "      <th>1974189</th>\n",
       "      <td>-36.42</td>\n",
       "      <td>307.52</td>\n",
       "    </tr>\n",
       "    <tr>\n",
       "      <th>1033406</th>\n",
       "      <td>15.28</td>\n",
       "      <td>252.48</td>\n",
       "    </tr>\n",
       "  </tbody>\n",
       "</table>\n",
       "<p>4000 rows × 2 columns</p>\n",
       "</div>"
      ],
      "text/plain": [
       "         latitude  longitude\n",
       "1601602    -16.18     165.68\n",
       "2211711    -49.95     152.02\n",
       "1347392     -2.22      91.35\n",
       "1055967     14.02     209.82\n",
       "1177803      7.38     175.65\n",
       "...           ...        ...\n",
       "1008345     16.68      41.85\n",
       "2296584    -54.72     207.05\n",
       "891887      23.68     285.08\n",
       "1974189    -36.42     307.52\n",
       "1033406     15.28     252.48\n",
       "\n",
       "[4000 rows x 2 columns]"
      ]
     },
     "execution_count": 65,
     "metadata": {},
     "output_type": "execute_result"
    }
   ],
   "source": [
    "X_test"
   ]
  },
  {
   "cell_type": "code",
   "execution_count": 66,
   "metadata": {},
   "outputs": [
    {
     "name": "stdout",
     "output_type": "stream",
     "text": [
      "Epoch 1/50\n",
      "219/219 [==============================] - 0s 1ms/step - loss: 1.0026 - mae: 0.6348 - val_loss: 0.9998 - val_mae: 0.6454\n",
      "Epoch 2/50\n",
      "219/219 [==============================] - 0s 846us/step - loss: 1.0003 - mae: 0.6344 - val_loss: 0.9994 - val_mae: 0.6496\n",
      "Epoch 3/50\n",
      "219/219 [==============================] - 0s 1ms/step - loss: 0.9998 - mae: 0.6332 - val_loss: 0.9995 - val_mae: 0.6469\n",
      "Epoch 4/50\n",
      "219/219 [==============================] - 0s 1ms/step - loss: 0.9998 - mae: 0.6344 - val_loss: 0.9998 - val_mae: 0.6462\n",
      "Epoch 5/50\n",
      "219/219 [==============================] - 0s 1ms/step - loss: 0.9994 - mae: 0.6340 - val_loss: 1.0000 - val_mae: 0.6439\n",
      "Epoch 6/50\n",
      "219/219 [==============================] - 0s 973us/step - loss: 0.9995 - mae: 0.6344 - val_loss: 1.0005 - val_mae: 0.6458\n",
      "Epoch 7/50\n",
      "219/219 [==============================] - 0s 878us/step - loss: 0.9996 - mae: 0.6323 - val_loss: 0.9997 - val_mae: 0.6454\n",
      "Epoch 8/50\n",
      "219/219 [==============================] - 0s 1ms/step - loss: 0.9993 - mae: 0.6341 - val_loss: 1.0000 - val_mae: 0.6439\n",
      "Epoch 9/50\n",
      "219/219 [==============================] - 0s 1ms/step - loss: 0.9994 - mae: 0.6336 - val_loss: 1.0002 - val_mae: 0.6447\n",
      "Epoch 10/50\n",
      "219/219 [==============================] - 0s 838us/step - loss: 0.9994 - mae: 0.6332 - val_loss: 0.9999 - val_mae: 0.6467\n",
      "Epoch 11/50\n",
      "219/219 [==============================] - 0s 862us/step - loss: 0.9989 - mae: 0.6333 - val_loss: 1.0003 - val_mae: 0.6443\n",
      "Epoch 12/50\n",
      "219/219 [==============================] - 0s 875us/step - loss: 0.9992 - mae: 0.6337 - val_loss: 1.0004 - val_mae: 0.6463\n",
      "Epoch 13/50\n",
      "219/219 [==============================] - 0s 859us/step - loss: 0.9993 - mae: 0.6332 - val_loss: 1.0006 - val_mae: 0.6471\n",
      "Epoch 14/50\n",
      "219/219 [==============================] - 0s 1ms/step - loss: 0.9992 - mae: 0.6346 - val_loss: 1.0001 - val_mae: 0.6464\n",
      "Epoch 15/50\n",
      "219/219 [==============================] - 0s 896us/step - loss: 0.9991 - mae: 0.6322 - val_loss: 0.9999 - val_mae: 0.6462\n",
      "Epoch 16/50\n",
      "219/219 [==============================] - 0s 873us/step - loss: 0.9990 - mae: 0.6342 - val_loss: 1.0005 - val_mae: 0.6436\n",
      "Epoch 17/50\n",
      "219/219 [==============================] - 0s 860us/step - loss: 0.9989 - mae: 0.6325 - val_loss: 1.0006 - val_mae: 0.6470\n",
      "Epoch 18/50\n",
      "219/219 [==============================] - 0s 870us/step - loss: 0.9989 - mae: 0.6337 - val_loss: 1.0009 - val_mae: 0.6454\n",
      "Epoch 19/50\n",
      "219/219 [==============================] - 0s 837us/step - loss: 0.9988 - mae: 0.6340 - val_loss: 1.0007 - val_mae: 0.6471\n",
      "Epoch 20/50\n",
      "219/219 [==============================] - 0s 787us/step - loss: 0.9989 - mae: 0.6339 - val_loss: 1.0006 - val_mae: 0.6458\n",
      "Epoch 21/50\n",
      "219/219 [==============================] - 0s 764us/step - loss: 0.9985 - mae: 0.6337 - val_loss: 1.0008 - val_mae: 0.6453\n",
      "Epoch 22/50\n",
      "219/219 [==============================] - 0s 769us/step - loss: 0.9983 - mae: 0.6342 - val_loss: 1.0012 - val_mae: 0.6447\n",
      "Epoch 23/50\n",
      "219/219 [==============================] - 0s 1ms/step - loss: 0.9985 - mae: 0.6328 - val_loss: 1.0007 - val_mae: 0.6508\n",
      "Epoch 24/50\n",
      "219/219 [==============================] - 0s 775us/step - loss: 0.9984 - mae: 0.6348 - val_loss: 1.0015 - val_mae: 0.6450\n",
      "Epoch 25/50\n",
      "219/219 [==============================] - 0s 760us/step - loss: 0.9981 - mae: 0.6334 - val_loss: 1.0013 - val_mae: 0.6521\n",
      "Epoch 26/50\n",
      "219/219 [==============================] - 0s 779us/step - loss: 0.9983 - mae: 0.6338 - val_loss: 1.0008 - val_mae: 0.6463\n",
      "Epoch 27/50\n",
      "219/219 [==============================] - 0s 766us/step - loss: 0.9983 - mae: 0.6344 - val_loss: 1.0013 - val_mae: 0.6437\n",
      "Epoch 28/50\n",
      "219/219 [==============================] - 0s 774us/step - loss: 0.9982 - mae: 0.6342 - val_loss: 1.0014 - val_mae: 0.6459\n",
      "Epoch 29/50\n",
      "219/219 [==============================] - 0s 764us/step - loss: 0.9983 - mae: 0.6325 - val_loss: 1.0006 - val_mae: 0.6481\n",
      "Epoch 30/50\n",
      "219/219 [==============================] - 0s 770us/step - loss: 0.9981 - mae: 0.6342 - val_loss: 1.0007 - val_mae: 0.6484\n",
      "Epoch 31/50\n",
      "219/219 [==============================] - 0s 829us/step - loss: 0.9980 - mae: 0.6343 - val_loss: 1.0018 - val_mae: 0.6469\n",
      "Epoch 32/50\n",
      "219/219 [==============================] - 0s 989us/step - loss: 0.9980 - mae: 0.6342 - val_loss: 1.0018 - val_mae: 0.6467\n",
      "Epoch 33/50\n",
      "219/219 [==============================] - 0s 801us/step - loss: 0.9978 - mae: 0.6330 - val_loss: 1.0013 - val_mae: 0.6501\n",
      "Epoch 34/50\n",
      "219/219 [==============================] - 0s 800us/step - loss: 0.9983 - mae: 0.6356 - val_loss: 1.0021 - val_mae: 0.6438\n",
      "Epoch 35/50\n",
      "219/219 [==============================] - 0s 765us/step - loss: 0.9978 - mae: 0.6333 - val_loss: 1.0016 - val_mae: 0.6446\n",
      "Epoch 36/50\n",
      "219/219 [==============================] - 0s 831us/step - loss: 0.9978 - mae: 0.6333 - val_loss: 1.0027 - val_mae: 0.6456\n",
      "Epoch 37/50\n",
      "219/219 [==============================] - 0s 919us/step - loss: 0.9979 - mae: 0.6344 - val_loss: 1.0013 - val_mae: 0.6463\n",
      "Epoch 38/50\n",
      "219/219 [==============================] - 0s 813us/step - loss: 0.9980 - mae: 0.6341 - val_loss: 1.0015 - val_mae: 0.6434\n",
      "Epoch 39/50\n",
      "219/219 [==============================] - 0s 1ms/step - loss: 0.9980 - mae: 0.6331 - val_loss: 1.0011 - val_mae: 0.6468\n",
      "Epoch 40/50\n",
      "219/219 [==============================] - 0s 784us/step - loss: 0.9976 - mae: 0.6326 - val_loss: 1.0016 - val_mae: 0.6496\n",
      "Epoch 41/50\n",
      "219/219 [==============================] - 0s 764us/step - loss: 0.9981 - mae: 0.6346 - val_loss: 1.0008 - val_mae: 0.6481\n",
      "Epoch 42/50\n",
      "219/219 [==============================] - 0s 759us/step - loss: 0.9979 - mae: 0.6352 - val_loss: 1.0016 - val_mae: 0.6434\n",
      "Epoch 43/50\n",
      "219/219 [==============================] - 0s 765us/step - loss: 0.9980 - mae: 0.6341 - val_loss: 1.0011 - val_mae: 0.6467\n",
      "Epoch 44/50\n",
      "219/219 [==============================] - 0s 774us/step - loss: 0.9979 - mae: 0.6325 - val_loss: 1.0015 - val_mae: 0.6475\n",
      "Epoch 45/50\n",
      "219/219 [==============================] - 0s 769us/step - loss: 0.9978 - mae: 0.6357 - val_loss: 1.0020 - val_mae: 0.6415\n",
      "Epoch 46/50\n",
      "219/219 [==============================] - 0s 771us/step - loss: 0.9977 - mae: 0.6319 - val_loss: 1.0017 - val_mae: 0.6472\n",
      "Epoch 47/50\n",
      "219/219 [==============================] - 0s 757us/step - loss: 0.9975 - mae: 0.6343 - val_loss: 1.0018 - val_mae: 0.6456\n",
      "Epoch 48/50\n",
      "219/219 [==============================] - 0s 749us/step - loss: 0.9979 - mae: 0.6334 - val_loss: 1.0018 - val_mae: 0.6498\n",
      "Epoch 49/50\n",
      "219/219 [==============================] - 0s 764us/step - loss: 0.9977 - mae: 0.6346 - val_loss: 1.0017 - val_mae: 0.6453\n",
      "Epoch 50/50\n",
      "219/219 [==============================] - 0s 767us/step - loss: 0.9975 - mae: 0.6338 - val_loss: 1.0014 - val_mae: 0.6447\n"
     ]
    }
   ],
   "source": [
    "# Usage example\n",
    "vap_system = EnhancedMultiDimensionalVAP(df_sample)"
   ]
  },
  {
   "cell_type": "code",
   "execution_count": 67,
   "metadata": {},
   "outputs": [],
   "source": [
    "# Add some sample VAPs (this would typically be done with real data)\n",
    "vap_system.add_vap(-33.98, 140.38, 1481.0, 0.097864)\n",
    "vap_system.add_vap(28.15, 60.42, 1301.7, -0.785708)"
   ]
  },
  {
   "cell_type": "code",
   "execution_count": 68,
   "metadata": {},
   "outputs": [
    {
     "name": "stderr",
     "output_type": "stream",
     "text": [
      "/Users/juanmanuelpaiba/.pyenv/versions/3.8.17/lib/python3.8/site-packages/sklearn/base.py:439: UserWarning: X does not have valid feature names, but NearestNeighbors was fitted with feature names\n",
      "  warnings.warn(\n"
     ]
    }
   ],
   "source": [
    "# Find nearest VAPs\n",
    "nearest_vaps = vap_system.find_nearest_vaps(-4.5, 272.4196, num_vaps=2) "
   ]
  },
  {
   "cell_type": "code",
   "execution_count": 69,
   "metadata": {},
   "outputs": [
    {
     "name": "stderr",
     "output_type": "stream",
     "text": [
      "/Users/juanmanuelpaiba/.pyenv/versions/3.8.17/lib/python3.8/site-packages/sklearn/base.py:439: UserWarning: X does not have valid feature names, but NearestNeighbors was fitted with feature names\n",
      "  warnings.warn(\n"
     ]
    }
   ],
   "source": [
    "# Step 1: Find nearest VAPs\n",
    "nearest_vaps = vap_system.find_nearest_vaps(-4.5, 272.4196, num_vaps=3)"
   ]
  },
  {
   "cell_type": "code",
   "execution_count": 70,
   "metadata": {},
   "outputs": [
    {
     "data": {
      "text/html": [
       "<div>\n",
       "<style scoped>\n",
       "    .dataframe tbody tr th:only-of-type {\n",
       "        vertical-align: middle;\n",
       "    }\n",
       "\n",
       "    .dataframe tbody tr th {\n",
       "        vertical-align: top;\n",
       "    }\n",
       "\n",
       "    .dataframe thead th {\n",
       "        text-align: right;\n",
       "    }\n",
       "</style>\n",
       "<table border=\"1\" class=\"dataframe\">\n",
       "  <thead>\n",
       "    <tr style=\"text-align: right;\">\n",
       "      <th></th>\n",
       "      <th>latitude</th>\n",
       "      <th>longitude</th>\n",
       "      <th>grav_anom</th>\n",
       "      <th>Magnetic_Anomaly_mGal</th>\n",
       "    </tr>\n",
       "  </thead>\n",
       "  <tbody>\n",
       "    <tr>\n",
       "      <th>1373</th>\n",
       "      <td>-4.05</td>\n",
       "      <td>272.15</td>\n",
       "      <td>257.3</td>\n",
       "      <td>-0.722446</td>\n",
       "    </tr>\n",
       "    <tr>\n",
       "      <th>12931</th>\n",
       "      <td>-4.85</td>\n",
       "      <td>273.72</td>\n",
       "      <td>1412.5</td>\n",
       "      <td>-1.049381</td>\n",
       "    </tr>\n",
       "    <tr>\n",
       "      <th>2932</th>\n",
       "      <td>-5.42</td>\n",
       "      <td>271.32</td>\n",
       "      <td>1156.4</td>\n",
       "      <td>0.136078</td>\n",
       "    </tr>\n",
       "  </tbody>\n",
       "</table>\n",
       "</div>"
      ],
      "text/plain": [
       "       latitude  longitude  grav_anom  Magnetic_Anomaly_mGal\n",
       "1373      -4.05     272.15      257.3              -0.722446\n",
       "12931     -4.85     273.72     1412.5              -1.049381\n",
       "2932      -5.42     271.32     1156.4               0.136078"
      ]
     },
     "execution_count": 70,
     "metadata": {},
     "output_type": "execute_result"
    }
   ],
   "source": [
    "nearest_vaps"
   ]
  },
  {
   "cell_type": "code",
   "execution_count": 71,
   "metadata": {},
   "outputs": [
    {
     "name": "stdout",
     "output_type": "stream",
     "text": [
      "{'latitude': -4.513077619099756, 'longitude': 272.325389461208, 'gravity_anomaly': 942.0666666666666, 'magnetic_field': -0.5452494543172047}\n"
     ]
    }
   ],
   "source": [
    "# Example usage with keyword arguments\n",
    "estimated_position = vap_system.interpolate_position(\n",
    "    nearest_vaps,\n",
    "    latitude=-4.5,\n",
    "    longitude=272.4196\n",
    ")\n",
    "\n",
    "print(estimated_position)"
   ]
  },
  {
   "cell_type": "code",
   "execution_count": 72,
   "metadata": {},
   "outputs": [],
   "source": [
    "# Calculate confidence\n",
    "confidence = vap_system.calculate_confidence(nearest_vaps, 1000, -0.6)"
   ]
  },
  {
   "cell_type": "code",
   "execution_count": 74,
   "metadata": {},
   "outputs": [
    {
     "name": "stdout",
     "output_type": "stream",
     "text": [
      "Estimated position: {'latitude': -4.513077619099756, 'longitude': 272.325389461208, 'gravity_anomaly': 942.0666666666666, 'magnetic_field': -0.5452494543172047}\n",
      "Confidence: 0\n",
      "1/1 [==============================] - 0s 30ms/step\n",
      "Predicted anomalies: Magnetic = 1174.8128662109375, Gravity = 0.06276611238718033\n"
     ]
    }
   ],
   "source": [
    "print(f\"Estimated position: {estimated_position}\")\n",
    "print(f\"Confidence: {confidence}\")\n",
    "\n",
    "# Predict anomalies for a new location\n",
    "predicted_anomalies = vap_system.predict_anomalies(37.7752, -122.4197)\n",
    "print(f\"Predicted anomalies: Magnetic = {predicted_anomalies[0]}, Gravity = {predicted_anomalies[1]}\")"
   ]
  },
  {
   "cell_type": "code",
   "execution_count": null,
   "metadata": {},
   "outputs": [],
   "source": []
  },
  {
   "cell_type": "code",
   "execution_count": null,
   "metadata": {},
   "outputs": [],
   "source": []
  },
  {
   "cell_type": "code",
   "execution_count": null,
   "metadata": {},
   "outputs": [],
   "source": []
  },
  {
   "cell_type": "code",
   "execution_count": null,
   "metadata": {},
   "outputs": [],
   "source": []
  }
 ],
 "metadata": {
  "kernelspec": {
   "display_name": "Python 3",
   "language": "python",
   "name": "python3"
  },
  "language_info": {
   "codemirror_mode": {
    "name": "ipython",
    "version": 3
   },
   "file_extension": ".py",
   "mimetype": "text/x-python",
   "name": "python",
   "nbconvert_exporter": "python",
   "pygments_lexer": "ipython3",
   "version": "3.8.17"
  }
 },
 "nbformat": 4,
 "nbformat_minor": 2
}
